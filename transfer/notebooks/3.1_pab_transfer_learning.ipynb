{
 "cells": [
  {
   "cell_type": "markdown",
   "metadata": {},
   "source": [
    "### Transfer learning models:\n",
    "\n",
    "* This notebook is about transfer learning models and the reinforcement learning agent to determine whether to use the transfer learner or an active learning policy."
   ]
  },
  {
   "cell_type": "code",
   "execution_count": 1,
   "metadata": {},
   "outputs": [],
   "source": [
    "import os\n",
    "import sys\n",
    "\n",
    "# Import my code \n",
    "module_path = os.path.abspath(os.path.join('..'))\n",
    "if module_path not in sys.path:\n",
    "    sys.path.append(module_path)\n",
    "try:\n",
    "    import src.active_learning as al\n",
    "    import src.viz as viz\n",
    "    import src.reinforcement as rl\n",
    "    import src.data as d \n",
    "    from src.models import logreg, CNN, AgentRL\n",
    "except:\n",
    "    import active_learning as al\n",
    "    import viz\n",
    "    import reinforcement as rl\n",
    "    import data as d \n",
    "    from models import logreg, CNN, AgentRL\n",
    "\n",
    "import importlib as imp\n",
    "import numpy as np\n",
    "import pandas as pd \n",
    "import matplotlib.pyplot as plt\n",
    "from matplotlib import animation\n",
    "import seaborn as sns\n",
    "from tqdm import tqdm_notebook as tqdm\n",
    "import torchvision.models as tmodels\n",
    "import torchvision.datasets as dset\n",
    "import torchvision.transforms as transforms\n",
    "import torch \n",
    "import torch.nn as nn\n",
    "import torch.nn.functional as F\n",
    "from torch.autograd import Variable\n",
    "import torch.optim as optim\n",
    "from torch.utils.data.dataset import Dataset\n",
    "from torch.distributions import Categorical\n",
    "import pickle\n",
    "import gc\n",
    "\n",
    "%matplotlib inline"
   ]
  },
  {
   "cell_type": "markdown",
   "metadata": {},
   "source": [
    "### Get the MNIST data"
   ]
  },
  {
   "cell_type": "code",
   "execution_count": 2,
   "metadata": {},
   "outputs": [],
   "source": [
    "# Get raw datasets - MNIST\n",
    "d = imp.reload(d)\n",
    "train_set = dset.MNIST(root='./data', train=True, transform=transforms.ToTensor(),download=True)\n",
    "test_set = dset.MNIST(root='./data', train=False, transform=transforms.ToTensor())\n",
    "test_loader = torch.utils.data.DataLoader(dataset=test_set, batch_size=len(test_set),shuffle=False)\n",
    "\n",
    "# Get raw dataset - USPS\n",
    "percent_test = 0.3\n",
    "usps_batch = 64\n",
    "usps_set = d.get_usps('usps/usps_all.mat', size=(28,28))\n",
    "usps_x, usps_y, usps_test_x, usps_test_y = al.get_dataset_split(usps_set,int(len(usps_set)*percent_test))\n",
    "usps_test_loader = torch.utils.data.DataLoader(dataset=torch.utils.data.TensorDataset(usps_test_x, usps_test_y), \\\n",
    "                                               batch_size=len(usps_test_y),shuffle=False)\n",
    "usps_train_loader = torch.utils.data.DataLoader(dataset=torch.utils.data.TensorDataset(usps_x, usps_y), \\\n",
    "                                               batch_size=usps_batch,shuffle=True)\n"
   ]
  },
  {
   "cell_type": "code",
   "execution_count": 3,
   "metadata": {},
   "outputs": [],
   "source": [
    "# Get x/y split for the test set \n",
    "train_x, train_y, val_x, val_y = al.get_dataset_split(train_set)\n",
    "test_x,test_y = al.get_xy_split(test_loader)"
   ]
  },
  {
   "cell_type": "markdown",
   "metadata": {},
   "source": [
    "### Load the pretrained transfer learner \n",
    "\n",
    "* Note: I did not end up using this but the learner is still there and pretty well trained "
   ]
  },
  {
   "cell_type": "code",
   "execution_count": 5,
   "metadata": {},
   "outputs": [],
   "source": [
    "# Get pretrained usps handwritten classifier - completely trained \n",
    "# Warnings causes by pytorch versioning issues with 0.3.1 on conda GPU vs 0.3.0 on conda CPU\n",
    "# model_usps = torch.load('paul_models/usps_model.pt')\n",
    "# print('USPS training accuracy:',al.accuracy(model_usps, usps_x, usps_y))\n",
    "# print('USPS test accuracy:',al.accuracy(model_usps, usps_test_x, usps_test_y))"
   ]
  },
  {
   "cell_type": "markdown",
   "metadata": {},
   "source": [
    "### Train the USPS transfer learner for a few epochs \n",
    "* Note: this is just an example, the actual training of the transfer learner is done inside of the experiment "
   ]
  },
  {
   "cell_type": "code",
   "execution_count": 12,
   "metadata": {},
   "outputs": [
    {
     "data": {
      "application/vnd.jupyter.widget-view+json": {
       "model_id": "941832b651324de5b7ca5697cd62d0ed",
       "version_major": 2,
       "version_minor": 0
      },
      "text/plain": [
       "A Jupyter Widget"
      ]
     },
     "metadata": {},
     "output_type": "display_data"
    },
    {
     "name": "stdout",
     "output_type": "stream",
     "text": [
      "\n"
     ]
    },
    {
     "data": {
      "image/png": "[encoded data removed]",
      "text/plain": [
       "<matplotlib.figure.Figure at 0x1040d08d0>"
      ]
     },
     "metadata": {},
     "output_type": "display_data"
    },
    {
     "name": "stdout",
     "output_type": "stream",
     "text": [
      "Training accuracy: 0.85038961039\n",
      "Test accuracy: 0.845757575758\n"
     ]
    }
   ],
   "source": [
    "# Get partially trained USPS model \n",
    "\n",
    "# Define the CNN model\n",
    "class CNN(nn.Module):\n",
    "    \"\"\" CNN for MNIST \"\"\"\n",
    "    def __init__(self):\n",
    "        super(CNN,self).__init__()\n",
    "        self.conv1 = nn.Conv2d(1, 10, kernel_size=5)\n",
    "        self.conv2 = nn.Conv2d(10, 10, kernel_size=5)\n",
    "        self.conv2_drop = nn.Dropout2d()\n",
    "        self.fc1 = nn.Linear(160, 10)\n",
    "\n",
    "    def forward(self, x):\n",
    "        x = x.view(-1,1,28,28)\n",
    "        x = F.relu(F.max_pool2d(self.conv1(x), 2))\n",
    "#         print(x.size())\n",
    "        x = F.relu(F.max_pool2d(self.conv2_drop(self.conv2(x)), 2))\n",
    "#         print(x.size())\n",
    "        x = x.view(-1, 160)\n",
    "        x = self.fc1(x)\n",
    "        return F.log_softmax(x,dim=1)\n",
    "\n",
    "def train_usps(epochs, model, opt, lossf, train_loader):\n",
    "    losses,n_itr = [],0\n",
    "    for e in tqdm(range(epochs)):\n",
    "        for batch_x, batch_y in train_loader:\n",
    "            batch_x = Variable(batch_x.cuda()) if use_cuda else Variable(batch_x)\n",
    "            batch_y = Variable(batch_y.cuda()) if use_cuda else Variable(batch_y)\n",
    "\n",
    "            result = model(batch_x)\n",
    "            loss = lossf(result, batch_y)\n",
    "            opt.zero_grad()\n",
    "            loss.backward()\n",
    "            opt.step()\n",
    "\n",
    "            n_itr+=1\n",
    "            losses.append(loss)\n",
    "\n",
    "    if use_cuda:\n",
    "        losses = [itm.data.cpu().numpy()[0] for itm in losses]\n",
    "    else:\n",
    "        losses = [itm.data.numpy()[0] for itm in losses]\n",
    "\n",
    "    return list(range(n_itr)), losses\n",
    "\n",
    "# Get raw dataset - USPS\n",
    "percent_test = 0.3\n",
    "usps_batch = 64\n",
    "usps_set = d.get_usps('../notebooks/usps/usps_all.mat', size=(28,28))\n",
    "usps_x, usps_y, usps_test_x, usps_test_y = al.get_dataset_split(usps_set,int(len(usps_set)*percent_test))\n",
    "usps_test_loader = torch.utils.data.DataLoader(dataset=torch.utils.data.TensorDataset(usps_test_x, usps_test_y), \\\n",
    "                                            batch_size=len(usps_test_y),shuffle=False)\n",
    "usps_train_loader = torch.utils.data.DataLoader(dataset=torch.utils.data.TensorDataset(usps_x, usps_y), \\\n",
    "                                            batch_size=usps_batch,shuffle=True)\n",
    "    \n",
    "# train simple learner on USPS and use as the transfer learner \n",
    "usps_epochs = 1\n",
    "use_cuda = torch.cuda.is_available()\n",
    "usps_model = CNN().cuda() if use_cuda else CNN()\n",
    "usps_opt = optim.Adam(usps_model.parameters(), lr=0.01)\n",
    "usps_loss = nn.NLLLoss()\n",
    "\n",
    "n_itr, usps_losses = train_usps(1, usps_model, usps_opt, usps_loss, usps_train_loader)\n",
    "\n",
    "# Analysis of model \n",
    "plt.plot(n_itr, usps_losses, alpha=0.7)\n",
    "plt.title('Loss of CNN training on usps handwritten images.')\n",
    "plt.xlabel('Iterations')\n",
    "plt.ylabel('Loss')\n",
    "plt.show()\n",
    "\n",
    "print('Training accuracy:',al.accuracy(usps_model, usps_x, usps_y, use_cuda))\n",
    "print('Test accuracy:',al.accuracy(usps_model, usps_test_x, usps_test_y, use_cuda))"
   ]
  },
  {
   "cell_type": "code",
   "execution_count": 17,
   "metadata": {},
   "outputs": [
    {
     "data": {
      "text/plain": [
       "4380"
      ]
     },
     "execution_count": 17,
     "metadata": {},
     "output_type": "execute_result"
    }
   ],
   "source": [
    "usps_model.parameters()\n",
    "model_parameters = filter(lambda p: p.requires_grad, usps_model.parameters())\n",
    "params = sum([np.prod(p.size()) for p in model_parameters])\n",
    "params"
   ]
  },
  {
   "cell_type": "markdown",
   "metadata": {},
   "source": [
    "### Now we are ready to reinforcement learn:\n",
    "\n",
    "for a given state of the model.. meaning all potential training points, labeled and unlabeled and our predictions on those, is it better to active learn with policy $y$ and continue training our original model or is it better to transfer a different model and retrain the final layer.\n",
    "\n",
    "\n",
    "## Implementation: \n",
    "\n",
    "I need to implement a system that reinforcement learns two options.  \n",
    "\n",
    "1. Train more on the source dataset and then perform $n$ epochs of training on the existing points in the target dataset and predict on the validation in the target \n",
    "2. Use active learning policies to select the next $k$ points in the target set for labeling and then train for $n$ epochs on the target dataset and predict on the validation set in the target.\n",
    "\n",
    "##### Decisions:\n",
    "\n",
    "Decide on if you want the reward to be $\\Delta$ accuracy or accuracy itself."
   ]
  },
  {
   "cell_type": "code",
   "execution_count": 5,
   "metadata": {
    "collapsed": true
   },
   "outputs": [],
   "source": [
    "# Make the RL agent to interact with the environment \n",
    "class AgentRL(nn.Module):\n",
    "    def __init__(self, inpt_dim, hidden_dim, num_policies):\n",
    "        super(AgentRL, self).__init__()\n",
    "        self.num_policies = num_policies\n",
    "        self.inner_layer = nn.Linear(inpt_dim, hidden_dim)\n",
    "        self.lstm = nn.LS\n",
    "        self.outer_layer = nn.Linear(hidden_dim, num_policies)\n",
    "        self.rewards = []\n",
    "        self.saved_log_probs = []\n",
    "        \n",
    "    def forward(self, x):\n",
    "        x = x.view(1,-1)\n",
    "        x = F.relu(self.inner_layer(x))\n",
    "        x = self.outer_layer(x)\n",
    "        return F.softmax(x, dim=1)"
   ]
  },
  {
   "cell_type": "code",
   "execution_count": 49,
   "metadata": {},
   "outputs": [
    {
     "name": "stdout",
     "output_type": "stream",
     "text": [
      "Doing 8 iterations with as many RL learners.\n"
     ]
    },
    {
     "name": "stderr",
     "output_type": "stream",
     "text": [
      "100%|██████████| 100/100 [45:07<00:00, 27.07s/it]\n",
      "100%|██████████| 100/100 [44:39<00:00, 26.80s/it]\n",
      "100%|██████████| 100/100 [1:17:23<00:00, 46.43s/it]\n",
      "100%|██████████| 100/100 [1:17:43<00:00, 46.63s/it]\n",
      "100%|██████████| 100/100 [45:17<00:00, 27.18s/it]\n",
      "100%|██████████| 100/100 [46:31<00:00, 27.92s/it]\n",
      "100%|██████████| 100/100 [1:17:21<00:00, 46.42s/it]\n",
      "100%|██████████| 100/100 [1:18:06<00:00, 46.86s/it]\n"
     ]
    }
   ],
   "source": [
    "rl = imp.reload(rl)\n",
    "al = imp.reload(al)    \n",
    "viz = imp.reload(viz)    \n",
    "\n",
    "tar_costs = [.2,.2,.2,.2,.2,.2,.2,.2]\n",
    "n_exp = 100\n",
    "al_itr = 50\n",
    "pc_all, rwd_all, ac_all = [],[],[]\n",
    "print(f'Doing {len(tar_costs)} iterations with as many RL learners.')\n",
    "\n",
    "for tar_c in tar_costs:\n",
    "    gc.collect()\n",
    "    \n",
    "    # Define the model and the rl agent \n",
    "    mod = logreg()\n",
    "    opt = optim.Adam(mod.parameters(),lr=0.01)\n",
    "    policy_key = {0: 'transfer', 1: 'boundary'}\n",
    "    agent = AgentRL(int(len(train_x)*10),128, 2) # 2 for the 1 AL policy and one TL policy\n",
    "    optimizer_rl = optim.Adam(agent.parameters(), lr=1e-2)\n",
    "    \n",
    "    # Set up the rl envorinment and set its parameters.\n",
    "    rl_e = rl.Environment(mod, train_x, train_y, val_x , val_y,  nn.NLLLoss(), opt, usps_data=usps_train_loader)\n",
    "    rl_e.set_params(al_itrs=al_itr, npoints=20, batch_size=10)\n",
    "    \n",
    "    # Run the n_experiments at the specified tar_cost \n",
    "    pc,rwd,ac = rl_e.run_experiments(agent, optimizer_rl, policy_key, n_experiments=n_exp,  \\\n",
    "                                     tar_cost=tar_c,rtype='transfer')\n",
    "    # Record results\n",
    "    pc_all.append(pc)\n",
    "    rwd_all.append(rwd)\n",
    "    ac_all.append(ac)"
   ]
  },
  {
   "cell_type": "markdown",
   "metadata": {},
   "source": [
    "### Save the results:\n",
    "* Note: this is my main data structure for both making movies and general saving of RL results "
   ]
  },
  {
   "cell_type": "code",
   "execution_count": 50,
   "metadata": {
    "collapsed": true
   },
   "outputs": [],
   "source": [
    "\n",
    "# Save and load the model\n",
    "with open(\"rl_results_lr_tc0.2_gamma0.9.pkl\", \"wb\" ) as file:\n",
    "    pickle.dump({'policy': pc_all,'reward': rwd_all, 'acc': ac_all},file,protocol=pickle.HIGHEST_PROTOCOL)\n",
    "\n",
    "with open(\"rl_results_lr_tc0.2_gamma0.9.pkl\",'rb') as file:\n",
    "    check = pickle.load(file)\n"
   ]
  },
  {
   "cell_type": "markdown",
   "metadata": {},
   "source": [
    "### Naive visualization \n",
    "\n",
    "* Note: the movie visualization is found in the data.py file and can be called on the pickle files directly.  \n",
    "* Check out the docs for that if you want to use the movie feature"
   ]
  },
  {
   "cell_type": "code",
   "execution_count": 70,
   "metadata": {},
   "outputs": [
    {
     "name": "stdout",
     "output_type": "stream",
     "text": [
      "Final accuracy over active learning policy: 0.4845\n"
     ]
    },
    {
     "data": {
      "image/png": "[encoded data removed]",
      "text/plain": [
       "<matplotlib.figure.Figure at 0x7fda22b68f60>"
      ]
     },
     "metadata": {},
     "output_type": "display_data"
    }
   ],
   "source": [
    "viz = imp.reload(viz)\n",
    "# Visualize the instance given by 'ii'\n",
    "experiment = 6\n",
    "obs_in_exp = 0\n",
    "\n",
    "viz.viz_rl_tl(check['policy'][experiment],check['acc'][experiment],obs_in_exp,check['reward'][experiment])\n",
    "print('Final accuracy over active learning policy:',check['acc'][experiment][obs_in_exp][-1])"
   ]
  },
  {
   "cell_type": "code",
   "execution_count": null,
   "metadata": {
    "collapsed": true
   },
   "outputs": [],
   "source": []
  }
 ],
 "metadata": {
  "kernelspec": {
   "display_name": "Python 3",
   "language": "python",
   "name": "python3"
  },
  "language_info": {
   "codemirror_mode": {
    "name": "ipython",
    "version": 3
   },
   "file_extension": ".py",
   "mimetype": "text/x-python",
   "name": "python",
   "nbconvert_exporter": "python",
   "pygments_lexer": "ipython3",
   "version": "3.6.2"
  }
 },
 "nbformat": 4,
 "nbformat_minor": 2
}
