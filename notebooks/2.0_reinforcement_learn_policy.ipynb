{
 "cells": [
  {
   "cell_type": "markdown",
   "metadata": {},
   "source": [
    "### Reinforcement learning the active learning policy \n",
    "\n"
   ]
  },
  {
   "cell_type": "code",
   "execution_count": 2,
   "metadata": {},
   "outputs": [],
   "source": [
    "import os\n",
    "import sys\n",
    "module_path = os.path.abspath(os.path.join('..'))\n",
    "if module_path not in sys.path:\n",
    "    sys.path.append(module_path)\n",
    "import src.active_learning as al\n",
    "import src.viz as viz\n",
    "\n",
    "import importlib as imp\n",
    "import numpy as np\n",
    "import pandas as pd \n",
    "import matplotlib.pyplot as plt\n",
    "import seaborn as sns\n",
    "from tqdm import tqdm_notebook as tqdm\n",
    "import torchvision.datasets as dset\n",
    "import torchvision.transforms as transforms\n",
    "import torch \n",
    "import torch.nn as nn\n",
    "import torch.nn.functional as F\n",
    "from torch.autograd import Variable\n",
    "import torch.optim as optim\n",
    "from torch.utils.data.dataset import Dataset\n",
    "from torch.utils.data.sampler import SubsetRandomSampler\n",
    "from torch.distributions import Categorical\n",
    "# import pyro\n",
    "\n",
    "%matplotlib inline"
   ]
  },
  {
   "cell_type": "markdown",
   "metadata": {},
   "source": [
    "### Get the data:\n",
    "\n",
    "Get MNIST formatted from PyTorch."
   ]
  },
  {
   "cell_type": "code",
   "execution_count": 3,
   "metadata": {},
   "outputs": [],
   "source": [
    "# Get raw datasets \n",
    "train_set = dset.MNIST(root='./data', train=True, transform=transforms.ToTensor(),download=False)\n",
    "test_set = dset.MNIST(root='./data', train=False, transform=transforms.ToTensor())\n",
    "test_loader = torch.utils.data.DataLoader(dataset=test_set, batch_size=len(test_set),shuffle=False)"
   ]
  },
  {
   "cell_type": "code",
   "execution_count": 4,
   "metadata": {},
   "outputs": [],
   "source": [
    "# Get x/y split for the test set \n",
    "train_x, train_y, val_x, val_y = al.get_dataset_split(train_set)\n",
    "test_x,test_y = al.get_xy_split(test_loader)"
   ]
  },
  {
   "cell_type": "markdown",
   "metadata": {},
   "source": [
    "### Make the models:\n",
    "\n",
    "Below we make both the logistic regression and the CNN for experiemnts with RL on active learning policies"
   ]
  },
  {
   "cell_type": "code",
   "execution_count": 5,
   "metadata": {},
   "outputs": [],
   "source": [
    "# Define the logistic regression model\n",
    "class logreg(nn.Module):\n",
    "    \"\"\" Logistic regression \"\"\"\n",
    "    def __init__(self, classes):\n",
    "        super(logreg, self).__init__()\n",
    "        self.classes = classes\n",
    "        self.w = nn.Linear(28*28,classes)\n",
    "        \n",
    "    def forward(self, x):\n",
    "        x = self.w(x.view(-1,1,28*28))\n",
    "        return F.log_softmax(x.view(-1,self.classes),dim=1)\n",
    "\n",
    "# Define the CNN model \n",
    "class CNN(nn.Module):\n",
    "    \"\"\" CNN for MNIST \"\"\"\n",
    "    def __init__(self):\n",
    "        super(CNN,self).__init__()\n",
    "        self.conv1 = nn.Conv2d(1, 10, kernel_size=5)\n",
    "        self.conv2 = nn.Conv2d(10, 20, kernel_size=5)\n",
    "        self.conv2_drop = nn.Dropout2d()\n",
    "        self.fc1 = nn.Linear(320, 50)\n",
    "        self.fc2 = nn.Linear(50, 10)\n",
    "\n",
    "    def forward(self, x):\n",
    "        x = x.view(-1,1,28,28)\n",
    "        x = F.relu(F.max_pool2d(self.conv1(x), 2))\n",
    "        x = F.relu(F.max_pool2d(self.conv2_drop(self.conv2(x)), 2))\n",
    "        x = x.view(-1, 320)\n",
    "        x = F.relu(self.fc1(x))\n",
    "        x = self.fc2(x)\n",
    "        return F.log_softmax(x,dim=1)\n",
    "    "
   ]
  },
  {
   "cell_type": "code",
   "execution_count": 6,
   "metadata": {},
   "outputs": [],
   "source": [
    "al = imp.reload(al)\n",
    "viz = imp.reload(viz)\n",
    "########### GLOBAL EXPERIMENT PARAMS ############\n",
    "# Epochs of adding additional points\n",
    "meta_epochs = 5\n",
    "# Epochs per training run\n",
    "ept = 5\n",
    "# Number of points to start with and add each run \n",
    "npoints = 20\n",
    "batch_size = 10\n",
    "learning_rate = 0.01\n",
    "# Number of runs to create a sampling distribution to quantify error \n",
    "samp_runs = 2\n",
    "\n",
    "def try_policy(policy, meta_epochs, ept, npoints, batch_size, learning_rate, samp_runs):\n",
    "    # general policy test \n",
    "    try_acc = []\n",
    "    for i in tqdm(range(samp_runs)):\n",
    "        model_try = logreg(classes=10)\n",
    "#         model_try = CNN()\n",
    "        loss_try = nn.NLLLoss()\n",
    "        optimizer_try = optim.SGD(model_try.parameters(), lr=learning_rate)\n",
    "        experi = al.ExperiAL(model_try, train_x, train_y, val_x, val_y, loss_try, optimizer_try)\n",
    "        experi.set_params(meta_epochs=5)\n",
    "        _, val_acc = experi.active_learn(policy=policy)\n",
    "        try_acc.append(val_acc)\n",
    "    print(f'Active Learning with {policy} policy done!')\n",
    "    return try_acc\n",
    "\n",
    "# random_acc = try_policy('random', meta_epochs, ept, npoints, batch_size, learning_rate, samp_runs)\n",
    "# boundary_acc = try_policy('boundary', meta_epochs, ept, npoints, batch_size, learning_rate, samp_runs)\n",
    "# model = logreg(classes=10)\n",
    "# loss_func = nn.NLLLoss()\n",
    "# optimizer = optim.SGD(model.parameters(), lr=.01)\n",
    "# experiment = al.ExperiAL(model, train_x, train_y, val_x, val_y, loss_func, optimizer)\n",
    "# experiment.active_learn(policy='boundary', meta_epochs=5, epochs_per_train=5, npoints=20, batch_size=10)\n",
    "\n",
    "# accs = [random_acc,boundary_acc,entropy_acc, confidence_acc,uniform_acc]\n",
    "# sample_acc = [a[-1][-1] for a in accs]\n",
    "# labs = ['Random','Boundary','Max Entropy', 'Least Confidence','Uniform']\n",
    "# nice_labs = [lab+f' {a}' for lab,a in zip(labs,sample_acc)]\n",
    "# viz.plot_results(meta_epochs,accs,nice_labs)"
   ]
  },
  {
   "cell_type": "code",
   "execution_count": 1,
   "metadata": {},
   "outputs": [],
   "source": [
    "class Environment(object):\n",
    "    def __init__(self, model, train_x, train_y, val_x, val_y, loss_func, optimizer):\n",
    "        self.use_cuda = torch.cuda.is_available()\n",
    "        self.model = model.cuda() if self.use_cuda else model\n",
    "        self.train_x = train_x\n",
    "        self.train_y = train_y\n",
    "        self.val_x = val_x\n",
    "        self.val_y = val_y\n",
    "        self.loss_func = loss_func\n",
    "        self.optimizer = optimizer\n",
    "        \n",
    "        \n",
    "    def get_req_points(self, unlab_x, unlab_y, policy, n, random_seed=13):\n",
    "        \"\"\" This function gets the number of points requested based on the function\n",
    "        \"policy\" that is passed. \"policy\" can be any function to test.\n",
    "        ---------\n",
    "        Args: model; any function that produces a valid array of length unlab_loader, but\n",
    "                normally a torch model.\n",
    "              unlab_loader; a torch DataLoader or other datatype of not using torch functionality\n",
    "              policy; a passed fucntion that decides which points are most important for labeling\n",
    "              num_points; int, the number of points indices we will return asking for labels.\n",
    "        ---------\n",
    "        Returns: array of length \"num_points\" that represent the indices of the points\n",
    "                    to be labeled.\n",
    "        \"\"\"\n",
    "        if policy!='random':\n",
    "            pred_y = self.model(Variable(unlab_x.cuda())) if self.use_cuda else self.model(Variable(unlab_x))\n",
    "            if policy=='boundary':\n",
    "                fn = al.boundary_policy\n",
    "            elif policy=='uniform':\n",
    "                fn = al.uniform_policy\n",
    "            elif policy=='max_entropy':\n",
    "                fn = al.max_entropy_policy\n",
    "            elif policy=='conf':\n",
    "                fn = al.least_confidence_policy\n",
    "            idxs = fn(pred_y, n=n, use_cuda=self.use_cuda)\n",
    "            new_u_x, new_u_y, add_x, add_y = al.get_idx_split(unlab_x, unlab_y, idxs)\n",
    "        else:\n",
    "            new_u_x, new_u_y, add_x, add_y = al.get_dataset_split((unlab_x,unlab_y), other_size=n, random_seed=random_seed)\n",
    "        return new_u_x, new_u_y, add_x, add_y"
   ]
  },
  {
   "cell_type": "markdown",
   "metadata": {},
   "source": [
    "### RL approach - Policy Gradients (PG)\n",
    "\n",
    "* Source: http://karpathy.github.io/2016/05/31/rl/\n",
    "\n",
    "Here I will try the PG appraoch to this problem.\n",
    "\n",
    "##### Ideas:\n",
    "\n",
    "* actions are choosing the policy by which we choose the next point. \n",
    "\n",
    "* so is the state the performance of the model or the model itself or the parameters?? \n",
    "\n",
    "* OR IS THE STATE THE SET OF UNLABELED POINTS?!?!\n",
    "\n",
    "* State is the set of all training points \n",
    "\n",
    "* NO state should be the marginals $p(\\mathbf{y}|x_i)$ for real!!!\n",
    "\n",
    "* could use grad of accuracy to approx reward function. steeper the gradient higher the reward."
   ]
  },
  {
   "cell_type": "code",
   "execution_count": 55,
   "metadata": {},
   "outputs": [
    {
     "data": {
      "application/vnd.jupyter.widget-view+json": {
       "model_id": "4fccffc54ef14bc4ab9b93aab1d764a9",
       "version_major": 2,
       "version_minor": 0
      },
      "text/plain": [
       "A Jupyter Widget"
      ]
     },
     "metadata": {},
     "output_type": "display_data"
    },
    {
     "name": "stdout",
     "output_type": "stream",
     "text": [
      "Experiment 0\tLast length:    24\tAverage length: 1.23\n",
      "Experiment 10\tLast length:    24\tAverage length: 3.41\n",
      "Experiment 20\tLast length:    24\tAverage length: 5.38\n",
      "Experiment 30\tLast length:    24\tAverage length: 7.16\n",
      "Experiment 40\tLast length:    24\tAverage length: 8.77\n",
      "Experiment 50\tLast length:    24\tAverage length: 10.22\n",
      "Experiment 60\tLast length:    24\tAverage length: 11.54\n",
      "Experiment 70\tLast length:    24\tAverage length: 12.73\n",
      "Experiment 80\tLast length:    24\tAverage length: 13.81\n",
      "Experiment 90\tLast length:    24\tAverage length: 14.78\n",
      "Experiment 100\tLast length:    24\tAverage length: 15.67\n",
      "Experiment 110\tLast length:    24\tAverage length: 16.46\n",
      "Experiment 120\tLast length:    24\tAverage length: 17.18\n",
      "Experiment 130\tLast length:    24\tAverage length: 17.83\n",
      "Experiment 140\tLast length:    24\tAverage length: 18.42\n",
      "Experiment 150\tLast length:    24\tAverage length: 18.96\n",
      "Experiment 160\tLast length:    24\tAverage length: 19.44\n",
      "Experiment 170\tLast length:    24\tAverage length: 19.88\n",
      "Experiment 180\tLast length:    24\tAverage length: 20.27\n",
      "Experiment 190\tLast length:    24\tAverage length: 20.63\n",
      "Experiment 200\tLast length:    24\tAverage length: 20.95\n",
      "Experiment 210\tLast length:    24\tAverage length: 21.24\n",
      "Experiment 220\tLast length:    24\tAverage length: 21.50\n",
      "Experiment 230\tLast length:    24\tAverage length: 21.74\n",
      "Experiment 240\tLast length:    24\tAverage length: 21.96\n",
      "Experiment 250\tLast length:    24\tAverage length: 22.15\n",
      "Experiment 260\tLast length:    24\tAverage length: 22.33\n",
      "Experiment 270\tLast length:    24\tAverage length: 22.49\n",
      "Experiment 280\tLast length:    24\tAverage length: 22.63\n",
      "Experiment 290\tLast length:    24\tAverage length: 22.77\n",
      "Experiment 300\tLast length:    24\tAverage length: 22.88\n",
      "Experiment 310\tLast length:    24\tAverage length: 22.99\n",
      "Experiment 320\tLast length:    24\tAverage length: 23.09\n",
      "Experiment 330\tLast length:    24\tAverage length: 23.17\n",
      "Experiment 340\tLast length:    24\tAverage length: 23.25\n",
      "Experiment 350\tLast length:    24\tAverage length: 23.32\n",
      "Experiment 360\tLast length:    24\tAverage length: 23.39\n",
      "Experiment 370\tLast length:    24\tAverage length: 23.45\n",
      "Experiment 380\tLast length:    24\tAverage length: 23.50\n",
      "Experiment 390\tLast length:    24\tAverage length: 23.55\n",
      "Experiment 400\tLast length:    24\tAverage length: 23.59\n",
      "Experiment 410\tLast length:    24\tAverage length: 23.63\n",
      "Experiment 420\tLast length:    24\tAverage length: 23.67\n",
      "Experiment 430\tLast length:    24\tAverage length: 23.70\n",
      "Experiment 440\tLast length:    24\tAverage length: 23.73\n",
      "Experiment 450\tLast length:    24\tAverage length: 23.75\n",
      "Experiment 460\tLast length:    24\tAverage length: 23.78\n",
      "Experiment 470\tLast length:    24\tAverage length: 23.80\n",
      "Experiment 480\tLast length:    24\tAverage length: 23.82\n",
      "Experiment 490\tLast length:    24\tAverage length: 23.83\n",
      "\n"
     ]
    }
   ],
   "source": [
    "# Make the RL agent to interact with the environment \n",
    "class AgentRL(nn.Module):\n",
    "    def __init__(self, inpt_dim, hidden_dim, num_policies):\n",
    "        super(AgentRL, self).__init__()\n",
    "        self.num_policies = num_policies\n",
    "        self.inner_layer = nn.Linear(inpt_dim, hidden_dim)\n",
    "        self.outer_layer = nn.Linear(hidden_dim, num_policies)\n",
    "        self.rewards = []\n",
    "        self.saved_log_probs = []\n",
    "        \n",
    "    def forward(self, x):\n",
    "        x = x.view(1,-1)\n",
    "        x = F.relu(self.inner_layer(x))\n",
    "        x = self.outer_layer(x)\n",
    "        return F.softmax(x, dim=1)\n",
    "\n",
    "# The incoming state is the marginals on all the points \n",
    "def select_action(agent, state, use_cuda=False):\n",
    "    \"\"\" Get the probabilities for different actions and sample to select one. \"\"\"\n",
    "    probs = agent(state)\n",
    "    m = Categorical(probs)\n",
    "    action = m.sample()\n",
    "    agent.saved_log_probs.append(m.log_prob(action))\n",
    "    return action.data[0]\n",
    "\n",
    "def finish_experiment(agent, optimizer, gamma=0.99, use_cuda=False):\n",
    "    \"\"\" after the training episode is done, we can finally backprop over the expectation of the rewards. \"\"\"\n",
    "    rewards = get_rewards(agent, gamma=gamma, use_cuda=use_cuda)\n",
    "    \n",
    "    #TODO: List comp when optimizing\n",
    "    policy_loss = []\n",
    "    for log_prob, reward in zip(agent.saved_log_probs, rewards):\n",
    "        policy_loss.append(-log_prob * reward)\n",
    "        \n",
    "    optimizer.zero_grad()\n",
    "    policy_loss = torch.cat(policy_loss).sum()\n",
    "    policy_loss.backward()\n",
    "    optimizer.step()\n",
    "    \n",
    "    del agent.rewards[:]\n",
    "    del agent.saved_log_probs[:]\n",
    "\n",
    "def get_rewards(agent, gamma=0.99, use_cuda=False):\n",
    "    \"\"\" Get the discounted rewards from the episode of training. \"\"\"\n",
    "    rewards, R = [], 0\n",
    "    for r in agent.rewards[::-1]:\n",
    "        R = r + gamma * R\n",
    "        rewards.insert(0, R)\n",
    "    rewards = torch.Tensor(rewards).cuda() if use_cuda else torch.Tensor(rewards)\n",
    "    rewards = (rewards - rewards.mean()) / (rewards.std() + np.finfo(np.float32).eps)\n",
    "    return rewards\n",
    "\n",
    "def run_experiments(agent, optimizer_agent, n_experiments, epochs_per_train=5, npoints=10, \\\n",
    "                    batch_size=10, meta_epochs=10, use_cuda=False):\n",
    "    running_reward = 1.0\n",
    "    policy_key = {0: 'random', 1: 'boundary', 2: 'max_entropy', 3: 'conf', 4: 'uniform'}\n",
    "    policies_chosen, rewards_total = [],[]\n",
    "    for i_exp in tqdm(range(n_experiments)):\n",
    "        ### Reset the envorinment \n",
    "        model_try = logreg(classes=10)\n",
    "        loss_try = nn.NLLLoss()\n",
    "        optimizer_try = optim.Adam(model_try.parameters(), lr=0.01)\n",
    "        train_tensor = train_x.cuda() if use_cuda else train_x\n",
    "        experiment = al.ExperiAL(model_try, train_x, train_y, val_x, val_y, loss_try, optimizer_try)\n",
    "        experiment.set_params(meta_epochs=1, npoints=npoints, batch_size=batch_size, epochs_per_train=epochs_per_train)\n",
    "        \n",
    "        # Calculate the initial state \n",
    "        state = model_try(Variable(train_tensor))\n",
    "        \n",
    "        # Run the experiment up to training on 1000 points \n",
    "        policies,track_reward = [],[]\n",
    "#         for t in range(3):  # Don't infinite loop while learning\n",
    "        for t in range(meta_epochs):\n",
    "            action = select_action(agent, state, use_cuda=use_cuda)\n",
    "            policies.append(policy_key[action])\n",
    "            _, reward = experiment.active_learn(policy=policy_key[action])\n",
    "            track_reward.append(reward)\n",
    "            state = model_try(Variable(train_tensor))\n",
    "            agent.rewards.append(reward[0])\n",
    "            \n",
    "        policies_chosen.append(policies)\n",
    "        rewards_total.append(np.array(track_reward))\n",
    "        running_reward = running_reward * 0.99 + t * 0.01\n",
    "        finish_experiment(agent, optimizer_agent, gamma=0.99, use_cuda=use_cuda)\n",
    "        if i_exp % 10 == 0:\n",
    "            print('Experiment {}\\tLast length: {:5d}\\tAverage length: {:.2f}'.format(\n",
    "                i_exp, t, running_reward))\n",
    "    return policies_chosen, np.array(rewards_total)\n",
    "\n",
    "arl = AgentRL(int(len(train_x)*10), 128, 5)\n",
    "optimizer_rl = optim.Adam(arl.parameters(), lr=1e-2)\n",
    "\n",
    "pc,ac = run_experiments(arl, optimizer_rl, n_experiments=500, epochs_per_train=5, npoints=20, meta_epochs=25, batch_size=10)"
   ]
  },
  {
   "cell_type": "markdown",
   "metadata": {},
   "source": [
    "### Idea:\n",
    "\n",
    "maybe try a simulated annealing type $e^{\\frac{x}{T}}$ to make the slight differences in the rewards more pronounced"
   ]
  },
  {
   "cell_type": "code",
   "execution_count": 70,
   "metadata": {},
   "outputs": [
    {
     "name": "stdout",
     "output_type": "stream",
     "text": [
      "['uniform', 'boundary', 'boundary', 'boundary', 'boundary', 'boundary', 'boundary', 'boundary', 'boundary', 'boundary', 'boundary', 'boundary', 'boundary', 'boundary', 'boundary', 'boundary', 'boundary', 'boundary', 'boundary', 'boundary', 'boundary', 'boundary', 'boundary', 'boundary', 'boundary']\n",
      "[ 0.86]\n"
     ]
    },
    {
     "data": {
      "image/png": "[encoded data removed]",
      "text/plain": [
       "<matplotlib.figure.Figure at 0x139b3dc18>"
      ]
     },
     "metadata": {},
     "output_type": "display_data"
    }
   ],
   "source": [
    "\n",
    "def viz_rl(pc,ac,idx,alp=0.7):\n",
    "    accs = ac.mean(axis=0)\n",
    "    me = len(pc[idx])\n",
    "    cmap= plt.get_cmap('tab10')\n",
    "    labels= ['conf','boundary','uniform','random','max_entropy']\n",
    "    plt.figure(figsize=(10,8))\n",
    "    plt.scatter(range(me),[10]*me,c=[cmap(1) if i=='conf' else cmap(0) for i in pc[idx]],alpha=alp)\n",
    "    plt.scatter(range(me),[10.1]*me,c=[cmap(1) if i=='boundary' else cmap(0) for i in pc[idx]],alpha=alp)\n",
    "    plt.scatter(range(me),[10.2]*me,c=[cmap(1) if i=='uniform' else cmap(0) for i in pc[idx]],alpha=alp)\n",
    "    plt.scatter(range(me),[10.3]*me,c=[cmap(1) if i=='random' else cmap(0) for i in pc[idx]],alpha=alp)\n",
    "    plt.scatter(range(me),[10.4]*me,c=[cmap(1) if i=='max_entropy' else cmap(0) for i in pc[idx]],alpha=alp)\n",
    "    plt.yticks([10,10.1,10.2,10.3,10.4], labels, rotation='horizontal')\n",
    "    plt.plot(range(me),accs+10,alpha=alp)\n",
    "    sns.despine()\n",
    "\n",
    "ii = 499\n",
    "viz_rl(pc,ac,ii)\n",
    "print(pc[ii])\n",
    "print(ac[ii][-1])"
   ]
  },
  {
   "cell_type": "code",
   "execution_count": 14,
   "metadata": {},
   "outputs": [
    {
     "name": "stdout",
     "output_type": "stream",
     "text": [
      "torch.Size([1, 500000])\n"
     ]
    },
    {
     "data": {
      "text/plain": [
       "Variable containing:\n",
       " 0.1896  0.2148  0.1515  0.3086  0.1356\n",
       "[torch.FloatTensor of size 1x5]"
      ]
     },
     "execution_count": 14,
     "metadata": {},
     "output_type": "execute_result"
    }
   ],
   "source": [
    "mod = logreg(classes=10)\n",
    "arl = AgentRL(int(len(train_x)*10), 128, 5)\n",
    "optimizer = optim.Adam(arl.parameters(), lr=1e-2)\n",
    "state = mod(Variable(train_x))\n",
    "result = arl(state)\n",
    "result"
   ]
  },
  {
   "cell_type": "markdown",
   "metadata": {},
   "source": [
    "### One RL approach (DQN):\n",
    "\n",
    "This is currently not working but could be good to try after policy gradients "
   ]
  },
  {
   "cell_type": "code",
   "execution_count": 9,
   "metadata": {},
   "outputs": [
    {
     "name": "stdout",
     "output_type": "stream",
     "text": [
      "1 epoch acc 0.8274\n",
      "OrderedDict([('w.weight', \n",
      "-3.0095e-02 -4.3774e-03 -1.1128e-02  ...  -1.8133e-02  1.5993e-02 -6.1285e-03\n",
      "-1.1412e-03  1.1096e-02 -3.4081e-02  ...  -1.3653e-02 -2.1021e-02  6.1761e-03\n",
      "-2.7035e-02  3.1876e-02  2.7182e-02  ...  -2.4003e-02 -3.5375e-02  3.4048e-02\n",
      "                ...                   ⋱                   ...                \n",
      " 2.9983e-03  1.9402e-03  2.5775e-02  ...   2.1912e-02 -3.3439e-02  1.1415e-02\n",
      "-2.7456e-02 -3.3077e-04 -2.6443e-02  ...  -2.8893e-02  2.0001e-02  9.3709e-03\n",
      "-9.9710e-03  1.2108e-02 -3.2164e-02  ...   2.9064e-02 -1.2496e-02 -1.7155e-02\n",
      "[torch.FloatTensor of size 10x784]\n",
      "), ('w.bias', \n",
      "1.00000e-02 *\n",
      " -6.5094\n",
      "  9.2180\n",
      " -3.3772\n",
      "  0.2998\n",
      "  1.2790\n",
      "  4.2864\n",
      "  0.2122\n",
      "  4.4110\n",
      " -4.8635\n",
      " -2.7203\n",
      "[torch.FloatTensor of size 10]\n",
      ")])\n",
      "OrderedDict([('w.weight', \n",
      "-0.0301 -0.0044 -0.0111  ...  -0.0181  0.0160 -0.0061\n",
      "-0.0011  0.0111 -0.0341  ...  -0.0137 -0.0210  0.0062\n",
      "-0.0270  0.0319  0.0272  ...  -0.0240 -0.0354  0.0340\n",
      "          ...             ⋱             ...          \n",
      " 0.0030  0.0019  0.0258  ...   0.0219 -0.0334  0.0114\n",
      "-0.0275 -0.0003 -0.0264  ...  -0.0289  0.0200  0.0094\n",
      "-0.0100  0.0121 -0.0322  ...   0.0291 -0.0125 -0.0172\n",
      "[torch.FloatTensor of size 10x784]\n",
      "), ('w.bias', \n",
      "-0.1436\n",
      " 0.2338\n",
      "-0.0532\n",
      "-0.0720\n",
      " 0.0591\n",
      " 0.3171\n",
      "-0.0126\n",
      " 0.1885\n",
      "-0.4132\n",
      "-0.0815\n",
      "[torch.FloatTensor of size 10]\n",
      ")])\n",
      "20 epoch acc 0.8958\n",
      "OrderedDict([('w.weight', \n",
      "-0.0301 -0.0044 -0.0111  ...  -0.0181  0.0160 -0.0061\n",
      "-0.0011  0.0111 -0.0341  ...  -0.0137 -0.0210  0.0062\n",
      "-0.0270  0.0319  0.0272  ...  -0.0240 -0.0354  0.0340\n",
      "          ...             ⋱             ...          \n",
      " 0.0030  0.0019  0.0258  ...   0.0219 -0.0334  0.0114\n",
      "-0.0275 -0.0003 -0.0264  ...  -0.0289  0.0200  0.0094\n",
      "-0.0100  0.0121 -0.0322  ...   0.0291 -0.0125 -0.0172\n",
      "[torch.FloatTensor of size 10x784]\n",
      "), ('w.bias', \n",
      "-0.1436\n",
      " 0.2338\n",
      "-0.0532\n",
      "-0.0720\n",
      " 0.0591\n",
      " 0.3171\n",
      "-0.0126\n",
      " 0.1885\n",
      "-0.4132\n",
      "-0.0815\n",
      "[torch.FloatTensor of size 10]\n",
      ")])\n",
      "should be 5 epoch acc 0.8958\n"
     ]
    },
    {
     "data": {
      "image/png": "[encoded data removed]",
      "text/plain": [
       "<matplotlib.figure.Figure at 0x12b50ef60>"
      ]
     },
     "metadata": {},
     "output_type": "display_data"
    }
   ],
   "source": [
    "from collections import namedtuple\n",
    "Transition = namedtuple('Transition', ('state', 'action', 'next_state', 'reward'))\n",
    "\n",
    "model = logreg(classes=10)\n",
    "loss_func = nn.NLLLoss()\n",
    "optimizer = optim.SGD(model.parameters(), lr=.01)\n",
    "experiment = al.ExperiAL(model, train_x, train_y, val_x, val_y, loss_func, optimizer)\n",
    "it,ac = experiment._train(train_x, train_y, epochs=1, batch_size=128)\n",
    "\n",
    "plt.plot(it,ac)\n",
    "sd = model.state_dict()\n",
    "print('1 epoch acc',al.accuracy(model,val_x,val_y))\n",
    "print(sd)\n",
    "it,ac = experiment._train(train_x, train_y, epochs=15, batch_size=128)\n",
    "plt.plot(it,ac)\n",
    "sd2 = model.state_dict()\n",
    "print(sd2)\n",
    "print('20 epoch acc',al.accuracy(model,val_x,val_y))\n",
    "print(sd)\n",
    "model.load_state_dict(sd)\n",
    "model.state_dict()\n",
    "print('should be 5 epoch acc',al.accuracy(model,val_x,val_y))\n"
   ]
  },
  {
   "cell_type": "code",
   "execution_count": 11,
   "metadata": {},
   "outputs": [
    {
     "name": "stdout",
     "output_type": "stream",
     "text": [
      "[2 8 6 5 5 3 4 7]\n",
      "[2 3 5 4 7 6 8 5]\n",
      "[5 8 5 2 7 6 4 3]\n",
      "[4 5 2 6 7 8 3 5]\n",
      "[5 6 2 5 4 8 3 7]\n",
      "[6 5 4 2 5 7 3 8]\n",
      "[8 5 2 4 7 3 5 6]\n",
      "[5 3 5 7 4 8 2 6]\n"
     ]
    }
   ],
   "source": [
    "preds = [5,5,6,7,8,4,3,2]\n",
    "num_points, sampler = len(preds), np.array(range(len(preds)))\n",
    "# output = []\n",
    "for i in range(num_points):\n",
    "    print(np.random.choice(preds, size=num_points, replace=False))"
   ]
  },
  {
   "cell_type": "code",
   "execution_count": null,
   "metadata": {},
   "outputs": [],
   "source": []
  }
 ],
 "metadata": {
  "kernelspec": {
   "display_name": "Python 3",
   "language": "python",
   "name": "python3"
  },
  "language_info": {
   "codemirror_mode": {
    "name": "ipython",
    "version": 3
   },
   "file_extension": ".py",
   "mimetype": "text/x-python",
   "name": "python",
   "nbconvert_exporter": "python",
   "pygments_lexer": "ipython3",
   "version": "3.6.2"
  }
 },
 "nbformat": 4,
 "nbformat_minor": 2
}
