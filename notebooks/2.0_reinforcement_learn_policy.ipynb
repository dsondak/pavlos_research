{
 "cells": [
  {
   "cell_type": "markdown",
   "metadata": {},
   "source": [
    "### Reinforcement learning the active learning policy \n",
    "\n"
   ]
  },
  {
   "cell_type": "code",
   "execution_count": 28,
   "metadata": {},
   "outputs": [],
   "source": [
    "import os\n",
    "import sys\n",
    "module_path = os.path.abspath(os.path.join('..'))\n",
    "if module_path not in sys.path:\n",
    "    sys.path.append(module_path)\n",
    "import src.active_learning as al\n",
    "import src.viz as viz\n",
    "\n",
    "import importlib as imp\n",
    "import numpy as np\n",
    "import pandas as pd \n",
    "import matplotlib.pyplot as plt\n",
    "import seaborn as sns\n",
    "from tqdm import tqdm_notebook as tqdm\n",
    "import torchvision.datasets as dset\n",
    "import torchvision.transforms as transforms\n",
    "import torch \n",
    "import torch.nn as nn\n",
    "import torch.nn.functional as F\n",
    "from torch.autograd import Variable\n",
    "import torch.optim as optim\n",
    "from torch.utils.data.dataset import Dataset\n",
    "from torch.utils.data.sampler import SubsetRandomSampler\n",
    "from torch.distributions import Categorical\n",
    "# import pyro\n",
    "\n",
    "%matplotlib inline"
   ]
  },
  {
   "cell_type": "markdown",
   "metadata": {},
   "source": [
    "### Get the data:\n",
    "\n",
    "Get MNIST formatted from PyTorch."
   ]
  },
  {
   "cell_type": "code",
   "execution_count": 3,
   "metadata": {},
   "outputs": [],
   "source": [
    "# Get raw datasets \n",
    "train_set = dset.MNIST(root='./data', train=True, transform=transforms.ToTensor(),download=False)\n",
    "test_set = dset.MNIST(root='./data', train=False, transform=transforms.ToTensor())\n",
    "test_loader = torch.utils.data.DataLoader(dataset=test_set, batch_size=len(test_set),shuffle=False)"
   ]
  },
  {
   "cell_type": "code",
   "execution_count": 4,
   "metadata": {},
   "outputs": [],
   "source": [
    "# Get x/y split for the test set \n",
    "train_x, train_y, val_x, val_y = al.get_dataset_split(train_set)\n",
    "test_x,test_y = al.get_xy_split(test_loader)"
   ]
  },
  {
   "cell_type": "markdown",
   "metadata": {},
   "source": [
    "### Make the models:\n",
    "\n",
    "Below we make both the logistic regression and the CNN for experiemnts with RL on active learning policies"
   ]
  },
  {
   "cell_type": "code",
   "execution_count": 6,
   "metadata": {},
   "outputs": [],
   "source": [
    "# Define the logistic regression model\n",
    "class logreg(nn.Module):\n",
    "    \"\"\" Logistic regression \"\"\"\n",
    "    def __init__(self, classes):\n",
    "        super(logreg, self).__init__()\n",
    "        self.classes = classes\n",
    "        self.w = nn.Linear(28*28,classes)\n",
    "        \n",
    "    def forward(self, x):\n",
    "        x = self.w(x.view(-1,1,28*28))\n",
    "        return F.log_softmax(x.view(-1,self.classes),dim=1)\n",
    "\n",
    "# Define the CNN model \n",
    "class CNN(nn.Module):\n",
    "    \"\"\" CNN for MNIST \"\"\"\n",
    "    def __init__(self):\n",
    "        super(CNN,self).__init__()\n",
    "        self.conv1 = nn.Conv2d(1, 10, kernel_size=5)\n",
    "        self.conv2 = nn.Conv2d(10, 20, kernel_size=5)\n",
    "        self.conv2_drop = nn.Dropout2d()\n",
    "        self.fc1 = nn.Linear(320, 50)\n",
    "        self.fc2 = nn.Linear(50, 10)\n",
    "\n",
    "    def forward(self, x):\n",
    "        x = x.view(-1,1,28,28)\n",
    "        x = F.relu(F.max_pool2d(self.conv1(x), 2))\n",
    "        x = F.relu(F.max_pool2d(self.conv2_drop(self.conv2(x)), 2))\n",
    "        x = x.view(-1, 320)\n",
    "        x = F.relu(self.fc1(x))\n",
    "        x = self.fc2(x)\n",
    "        return F.log_softmax(x,dim=1)\n",
    "    "
   ]
  },
  {
   "cell_type": "code",
   "execution_count": 10,
   "metadata": {},
   "outputs": [],
   "source": [
    "def try_policy(policy, meta_epochs, ept, npoints, batch_size, learning_rate, samp_runs):\n",
    "    # general policy test \n",
    "    try_acc = []\n",
    "    for i in tqdm(range(samp_runs)):\n",
    "        model_try = logreg(classes=10)\n",
    "#         model_try = CNN()\n",
    "        loss_try = nn.NLLLoss()\n",
    "        optimizer_try = optim.SGD(model_try.parameters(), lr=learning_rate)\n",
    "        experi = al.ExperiAL(model_try, train_x, train_y, val_x, val_y, loss_try, optimizer_try)\n",
    "        _, val_acc = experi.active_learn(policy=policy, epochs_per_train=ept, npoints=npoints, \\\n",
    "                                            batch_size=batch_size, meta_epochs=meta_epochs)\n",
    "        try_acc.append(val_acc)\n",
    "    print(f'Active Learning with {policy} policy done!')\n",
    "    return try_acc\n",
    "\n",
    "# model = logreg(classes=10)\n",
    "# loss_func = nn.NLLLoss()\n",
    "# optimizer = optim.SGD(model.parameters(), lr=.01)\n",
    "# experiment = al.ExperiAL(model, train_x, train_y, val_x, val_y, loss_func, optimizer)\n",
    "# experiment.active_learn(policy='boundary', meta_epochs=5, epochs_per_train=5, npoints=20, batch_size=10)\n",
    "\n",
    "# accs = [random_acc,boundary_acc,entropy_acc, confidence_acc,uniform_acc]\n",
    "# sample_acc = [a[-1][-1] for a in accs]\n",
    "# labs = ['Random','Boundary','Max Entropy', 'Least Confidence','Uniform']\n",
    "# nice_labs = [lab+f' {a}' for lab,a in zip(labs,sample_acc)]\n",
    "# viz.plot_results(meta_epochs,accs,nice_labs)"
   ]
  },
  {
   "cell_type": "markdown",
   "metadata": {},
   "source": [
    "### RL approach - Policy Gradients (PG)\n",
    "\n",
    "* Source: http://karpathy.github.io/2016/05/31/rl/\n",
    "\n",
    "Here I will try the PG appraoch to this problem.\n",
    "\n",
    "##### Ideas:\n",
    "\n",
    "* actions are choosing the policy by which we choose the next point. \n",
    "\n",
    "* so is the state the performance of the model or the model itself or the parameters?? \n",
    "\n",
    "* OR IS THE STATE THE SET OF UNLABELED POINTS?!?!\n",
    "\n",
    "* State is the set of all training points \n",
    "\n",
    "* NO state should be the marginals $p(\\mathbf{y}|x_i)$ for real!!!\n",
    "\n",
    "* could use grad of accuracy to approx reward function. steeper the gradient higher the reward."
   ]
  },
  {
   "cell_type": "code",
   "execution_count": 29,
   "metadata": {},
   "outputs": [],
   "source": [
    "# Make the RL agent to interact with the environment \n",
    "class AgentRL(nn.Module):\n",
    "    def __init__(self, inpt_dim, hidden_dim, num_policies):\n",
    "        super(AgentRL, self).__init__()\n",
    "        self.num_policies = num_policies\n",
    "        self.inner_layer = nn.Linear(inpt_dim, hidden_dim)\n",
    "        self.outer_layer = nn.Linear(hidden_dim, num_policies)\n",
    "        self.rewards = []\n",
    "        self.saved_log_probs = []\n",
    "        \n",
    "    def forward(self, x):\n",
    "        x = F.relu(self.inner_layer(x))\n",
    "        x = self.outer_layer(x)\n",
    "        return F.softmax(x, dim=1)\n",
    "\n",
    "def select_action(rl_agent, state):\n",
    "#     state = torch.from_numpy(state).float().unsqueeze(0)\n",
    "    if use_cuda:\n",
    "        probs = rl_agent(Variable(state.cuda()))\n",
    "    else:\n",
    "        probs = rl_agent(Variable(state))\n",
    "    m = Categorical(probs)\n",
    "    action = m.sample()\n",
    "    rl_agent.saved_log_probs.append(m.log_prob(action))\n",
    "    return action.data[0]\n",
    "\n",
    "arl = AgentRL(4, 128, 5)"
   ]
  },
  {
   "cell_type": "code",
   "execution_count": null,
   "metadata": {},
   "outputs": [],
   "source": []
  },
  {
   "cell_type": "markdown",
   "metadata": {},
   "source": [
    "### One RL approach (DQN):\n",
    "\n",
    "This is currently not working but could be good to try after policy gradients "
   ]
  },
  {
   "cell_type": "code",
   "execution_count": 9,
   "metadata": {},
   "outputs": [
    {
     "name": "stdout",
     "output_type": "stream",
     "text": [
      "1 epoch acc 0.8274\n",
      "OrderedDict([('w.weight', \n",
      "-3.0095e-02 -4.3774e-03 -1.1128e-02  ...  -1.8133e-02  1.5993e-02 -6.1285e-03\n",
      "-1.1412e-03  1.1096e-02 -3.4081e-02  ...  -1.3653e-02 -2.1021e-02  6.1761e-03\n",
      "-2.7035e-02  3.1876e-02  2.7182e-02  ...  -2.4003e-02 -3.5375e-02  3.4048e-02\n",
      "                ...                   ⋱                   ...                \n",
      " 2.9983e-03  1.9402e-03  2.5775e-02  ...   2.1912e-02 -3.3439e-02  1.1415e-02\n",
      "-2.7456e-02 -3.3077e-04 -2.6443e-02  ...  -2.8893e-02  2.0001e-02  9.3709e-03\n",
      "-9.9710e-03  1.2108e-02 -3.2164e-02  ...   2.9064e-02 -1.2496e-02 -1.7155e-02\n",
      "[torch.FloatTensor of size 10x784]\n",
      "), ('w.bias', \n",
      "1.00000e-02 *\n",
      " -6.5094\n",
      "  9.2180\n",
      " -3.3772\n",
      "  0.2998\n",
      "  1.2790\n",
      "  4.2864\n",
      "  0.2122\n",
      "  4.4110\n",
      " -4.8635\n",
      " -2.7203\n",
      "[torch.FloatTensor of size 10]\n",
      ")])\n",
      "OrderedDict([('w.weight', \n",
      "-0.0301 -0.0044 -0.0111  ...  -0.0181  0.0160 -0.0061\n",
      "-0.0011  0.0111 -0.0341  ...  -0.0137 -0.0210  0.0062\n",
      "-0.0270  0.0319  0.0272  ...  -0.0240 -0.0354  0.0340\n",
      "          ...             ⋱             ...          \n",
      " 0.0030  0.0019  0.0258  ...   0.0219 -0.0334  0.0114\n",
      "-0.0275 -0.0003 -0.0264  ...  -0.0289  0.0200  0.0094\n",
      "-0.0100  0.0121 -0.0322  ...   0.0291 -0.0125 -0.0172\n",
      "[torch.FloatTensor of size 10x784]\n",
      "), ('w.bias', \n",
      "-0.1436\n",
      " 0.2338\n",
      "-0.0532\n",
      "-0.0720\n",
      " 0.0591\n",
      " 0.3171\n",
      "-0.0126\n",
      " 0.1885\n",
      "-0.4132\n",
      "-0.0815\n",
      "[torch.FloatTensor of size 10]\n",
      ")])\n",
      "20 epoch acc 0.8958\n",
      "OrderedDict([('w.weight', \n",
      "-0.0301 -0.0044 -0.0111  ...  -0.0181  0.0160 -0.0061\n",
      "-0.0011  0.0111 -0.0341  ...  -0.0137 -0.0210  0.0062\n",
      "-0.0270  0.0319  0.0272  ...  -0.0240 -0.0354  0.0340\n",
      "          ...             ⋱             ...          \n",
      " 0.0030  0.0019  0.0258  ...   0.0219 -0.0334  0.0114\n",
      "-0.0275 -0.0003 -0.0264  ...  -0.0289  0.0200  0.0094\n",
      "-0.0100  0.0121 -0.0322  ...   0.0291 -0.0125 -0.0172\n",
      "[torch.FloatTensor of size 10x784]\n",
      "), ('w.bias', \n",
      "-0.1436\n",
      " 0.2338\n",
      "-0.0532\n",
      "-0.0720\n",
      " 0.0591\n",
      " 0.3171\n",
      "-0.0126\n",
      " 0.1885\n",
      "-0.4132\n",
      "-0.0815\n",
      "[torch.FloatTensor of size 10]\n",
      ")])\n",
      "should be 5 epoch acc 0.8958\n"
     ]
    },
    {
     "data": {
      "image/png": "[encoded data removed]",
      "text/plain": [
       "<matplotlib.figure.Figure at 0x12b50ef60>"
      ]
     },
     "metadata": {},
     "output_type": "display_data"
    }
   ],
   "source": [
    "from collections import namedtuple\n",
    "Transition = namedtuple('Transition', ('state', 'action', 'next_state', 'reward'))\n",
    "\n",
    "model = logreg(classes=10)\n",
    "loss_func = nn.NLLLoss()\n",
    "optimizer = optim.SGD(model.parameters(), lr=.01)\n",
    "experiment = al.ExperiAL(model, train_x, train_y, val_x, val_y, loss_func, optimizer)\n",
    "it,ac = experiment._train(train_x, train_y, epochs=1, batch_size=128)\n",
    "\n",
    "plt.plot(it,ac)\n",
    "sd = model.state_dict()\n",
    "print('1 epoch acc',al.accuracy(model,val_x,val_y))\n",
    "print(sd)\n",
    "it,ac = experiment._train(train_x, train_y, epochs=15, batch_size=128)\n",
    "plt.plot(it,ac)\n",
    "sd2 = model.state_dict()\n",
    "print(sd2)\n",
    "print('20 epoch acc',al.accuracy(model,val_x,val_y))\n",
    "print(sd)\n",
    "model.load_state_dict(sd)\n",
    "model.state_dict()\n",
    "print('should be 5 epoch acc',al.accuracy(model,val_x,val_y))\n"
   ]
  },
  {
   "cell_type": "code",
   "execution_count": 11,
   "metadata": {},
   "outputs": [
    {
     "name": "stdout",
     "output_type": "stream",
     "text": [
      "[2 8 6 5 5 3 4 7]\n",
      "[2 3 5 4 7 6 8 5]\n",
      "[5 8 5 2 7 6 4 3]\n",
      "[4 5 2 6 7 8 3 5]\n",
      "[5 6 2 5 4 8 3 7]\n",
      "[6 5 4 2 5 7 3 8]\n",
      "[8 5 2 4 7 3 5 6]\n",
      "[5 3 5 7 4 8 2 6]\n"
     ]
    }
   ],
   "source": [
    "preds = [5,5,6,7,8,4,3,2]\n",
    "num_points, sampler = len(preds), np.array(range(len(preds)))\n",
    "# output = []\n",
    "for i in range(num_points):\n",
    "    print(np.random.choice(preds, size=num_points, replace=False))"
   ]
  },
  {
   "cell_type": "code",
   "execution_count": null,
   "metadata": {},
   "outputs": [],
   "source": []
  }
 ],
 "metadata": {
  "kernelspec": {
   "display_name": "Python 3",
   "language": "python",
   "name": "python3"
  },
  "language_info": {
   "codemirror_mode": {
    "name": "ipython",
    "version": 3
   },
   "file_extension": ".py",
   "mimetype": "text/x-python",
   "name": "python",
   "nbconvert_exporter": "python",
   "pygments_lexer": "ipython3",
   "version": "3.6.2"
  }
 },
 "nbformat": 4,
 "nbformat_minor": 2
}
