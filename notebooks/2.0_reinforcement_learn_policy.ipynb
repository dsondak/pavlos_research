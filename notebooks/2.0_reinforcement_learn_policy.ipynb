{
 "cells": [
  {
   "cell_type": "markdown",
   "metadata": {},
   "source": [
    "### Reinforcement learning the active learning policy \n",
    "\n"
   ]
  },
  {
   "cell_type": "code",
   "execution_count": 1,
   "metadata": {},
   "outputs": [],
   "source": [
    "import os\n",
    "import sys\n",
    "module_path = os.path.abspath(os.path.join('..'))\n",
    "if module_path not in sys.path:\n",
    "    sys.path.append(module_path)\n",
    "import src.active_learning as al\n",
    "import src.viz as viz\n",
    "import src.reinforcement as rl\n",
    "\n",
    "import importlib as imp\n",
    "import numpy as np\n",
    "import pandas as pd \n",
    "import matplotlib.pyplot as plt\n",
    "import seaborn as sns\n",
    "from tqdm import tqdm_notebook as tqdm\n",
    "import torchvision.datasets as dset\n",
    "import torchvision.transforms as transforms\n",
    "import torch \n",
    "import torch.nn as nn\n",
    "import torch.nn.functional as F\n",
    "from torch.autograd import Variable\n",
    "import torch.optim as optim\n",
    "from torch.utils.data.dataset import Dataset\n",
    "from torch.utils.data.sampler import SubsetRandomSampler\n",
    "from torch.distributions import Categorical\n",
    "# import pyro\n",
    "\n",
    "%matplotlib inline"
   ]
  },
  {
   "cell_type": "markdown",
   "metadata": {},
   "source": [
    "### Get the data:\n",
    "\n",
    "Get MNIST formatted from PyTorch."
   ]
  },
  {
   "cell_type": "code",
   "execution_count": 2,
   "metadata": {},
   "outputs": [],
   "source": [
    "# Get raw datasets \n",
    "train_set = dset.MNIST(root='./data', train=True, transform=transforms.ToTensor(),download=False)\n",
    "test_set = dset.MNIST(root='./data', train=False, transform=transforms.ToTensor())\n",
    "test_loader = torch.utils.data.DataLoader(dataset=test_set, batch_size=len(test_set),shuffle=False)"
   ]
  },
  {
   "cell_type": "code",
   "execution_count": 3,
   "metadata": {},
   "outputs": [],
   "source": [
    "# Get x/y split for the test set \n",
    "train_x, train_y, val_x, val_y = al.get_dataset_split(train_set)\n",
    "test_x,test_y = al.get_xy_split(test_loader)"
   ]
  },
  {
   "cell_type": "markdown",
   "metadata": {},
   "source": [
    "### Make the models:\n",
    "\n",
    "Below we make both the logistic regression and the CNN for experiemnts with RL on active learning policies"
   ]
  },
  {
   "cell_type": "code",
   "execution_count": 4,
   "metadata": {},
   "outputs": [],
   "source": [
    "# Define the logistic regression model\n",
    "class logreg(nn.Module):\n",
    "    \"\"\" Logistic regression \"\"\"\n",
    "    def __init__(self):\n",
    "        super(logreg, self).__init__()\n",
    "        self.classes = 10\n",
    "        self.w = nn.Linear(28*28,self.classes)\n",
    "        \n",
    "    def forward(self, x):\n",
    "        x = self.w(x.view(-1,1,28*28))\n",
    "        return F.log_softmax(x.view(-1,self.classes),dim=1)\n",
    "\n",
    "# Define the CNN model \n",
    "class CNN(nn.Module):\n",
    "    \"\"\" CNN for MNIST \"\"\"\n",
    "    def __init__(self):\n",
    "        super(CNN,self).__init__()\n",
    "        self.conv1 = nn.Conv2d(1, 10, kernel_size=5)\n",
    "        self.conv2 = nn.Conv2d(10, 20, kernel_size=5)\n",
    "        self.conv2_drop = nn.Dropout2d()\n",
    "        self.fc1 = nn.Linear(320, 50)\n",
    "        self.fc2 = nn.Linear(50, 10)\n",
    "\n",
    "    def forward(self, x):\n",
    "        x = x.view(-1,1,28,28)\n",
    "        x = F.relu(F.max_pool2d(self.conv1(x), 2))\n",
    "        x = F.relu(F.max_pool2d(self.conv2_drop(self.conv2(x)), 2))\n",
    "        x = x.view(-1, 320)\n",
    "        x = F.relu(self.fc1(x))\n",
    "        x = self.fc2(x)\n",
    "        return F.log_softmax(x,dim=1)\n",
    "\n",
    "# Make the RL agent to interact with the environment \n",
    "class AgentRL(nn.Module):\n",
    "    def __init__(self, inpt_dim, hidden_dim, num_policies):\n",
    "        super(AgentRL, self).__init__()\n",
    "        self.num_policies = num_policies\n",
    "        self.inner_layer = nn.Linear(inpt_dim, hidden_dim)\n",
    "        self.outer_layer = nn.Linear(hidden_dim, num_policies)\n",
    "        self.rewards = []\n",
    "        self.saved_log_probs = []\n",
    "        \n",
    "    def forward(self, x):\n",
    "        x = x.view(1,-1)\n",
    "        x = F.relu(self.inner_layer(x))\n",
    "        x = self.outer_layer(x)\n",
    "        return F.softmax(x, dim=1)"
   ]
  },
  {
   "cell_type": "markdown",
   "metadata": {},
   "source": [
    "### RL approach - Policy Gradients (PG)\n",
    "\n",
    "* Source: http://karpathy.github.io/2016/05/31/rl/\n",
    "\n",
    "Here I will try the PG appraoch to this problem.\n",
    "\n",
    "##### Ideas:\n",
    "\n",
    "* actions are choosing the policy by which we choose the next point. \n",
    "\n",
    "* so is the state the performance of the model or the model itself or the parameters?? \n",
    "\n",
    "* OR IS THE STATE THE SET OF UNLABELED POINTS?!?!\n",
    "\n",
    "* State is the set of all training points \n",
    "\n",
    "* NO state should be the marginals $p(\\mathbf{y}|x_i)$ for real!!!\n",
    "\n",
    "* could use grad of accuracy to approx reward function. steeper the gradient higher the reward."
   ]
  },
  {
   "cell_type": "markdown",
   "metadata": {},
   "source": [
    "### Reinforcement learning:\n",
    "\n",
    "Here I learn the the reinforcement policy over the different active learning policies."
   ]
  },
  {
   "cell_type": "code",
   "execution_count": 6,
   "metadata": {},
   "outputs": [
    {
     "name": "stderr",
     "output_type": "stream",
     "text": [
      "\n",
      "  0%|          | 0/10 [00:00<?, ?it/s]\u001b[A\n",
      "Exception in thread Thread-4:\n",
      "Traceback (most recent call last):\n",
      "  File \"/Users/paulblankley/anaconda3/lib/python3.6/threading.py\", line 916, in _bootstrap_inner\n",
      "    self.run()\n",
      "  File \"/Users/paulblankley/anaconda3/lib/python3.6/site-packages/tqdm/_tqdm.py\", line 144, in run\n",
      "    for instance in self.tqdm_cls._instances:\n",
      "  File \"/Users/paulblankley/anaconda3/lib/python3.6/_weakrefset.py\", line 60, in __iter__\n",
      "    for itemref in self.data:\n",
      "RuntimeError: Set changed size during iteration\n",
      "\n",
      "100%|██████████| 10/10 [04:34<00:00, 27.40s/it]\n"
     ]
    }
   ],
   "source": [
    "rl = imp.reload(rl)\n",
    "al = imp.reload(al)\n",
    "viz = imp.reload(viz)\n",
    "\n",
    "mod = logreg()\n",
    "opt = optim.Adam(mod.parameters(),lr=0.01)\n",
    "policy_key = {0: 'random', 1: 'boundary', 2: 'max_entropy', 3: 'conf', 4: 'uniform'}\n",
    "arl = AgentRL(int(len(train_x)*10), 128, 5)\n",
    "optimizer_rl = optim.Adam(arl.parameters(), lr=1e-2)\n",
    "\n",
    "\n",
    "rl_e = rl.Environment(mod, train_x, train_y, val_x ,val_y, nn.NLLLoss(), opt)\n",
    "rl_e.set_params(al_itrs=20, npoints=20, batch_size=10)\n",
    "pc,ac = rl_e.run_experiments(arl, optimizer_rl, policy_key, n_experiments=10)"
   ]
  },
  {
   "cell_type": "markdown",
   "metadata": {},
   "source": [
    "### Visualize:\n",
    "\n",
    "Visualize the output of the RL agent."
   ]
  },
  {
   "cell_type": "code",
   "execution_count": 13,
   "metadata": {},
   "outputs": [
    {
     "name": "stdout",
     "output_type": "stream",
     "text": [
      "Final accuracy over active learning policy: 0.8303\n"
     ]
    },
    {
     "data": {
      "image/png": "[encoded data removed]",
      "text/plain": [
       "<matplotlib.figure.Figure at 0x124980860>"
      ]
     },
     "metadata": {},
     "output_type": "display_data"
    }
   ],
   "source": [
    "# Visualize the instance given by 'ii'\n",
    "ii = 0\n",
    "viz.viz_rl(pc,ac,ii)\n",
    "print('Final accuracy over active learning policy:',ac[ii][-1][0])\n"
   ]
  },
  {
   "cell_type": "code",
   "execution_count": null,
   "metadata": {},
   "outputs": [],
   "source": []
  }
 ],
 "metadata": {
  "kernelspec": {
   "display_name": "Python 3",
   "language": "python",
   "name": "python3"
  },
  "language_info": {
   "codemirror_mode": {
    "name": "ipython",
    "version": 3
   },
   "file_extension": ".py",
   "mimetype": "text/x-python",
   "name": "python",
   "nbconvert_exporter": "python",
   "pygments_lexer": "ipython3",
   "version": "3.6.2"
  }
 },
 "nbformat": 4,
 "nbformat_minor": 2
}
