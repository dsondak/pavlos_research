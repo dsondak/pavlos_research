{
 "cells": [
  {
   "cell_type": "markdown",
   "metadata": {},
   "source": [
    "### Initial playground for domain adaptation and moving into active learning\n",
    "\n",
    "* Paul Blankley "
   ]
  },
  {
   "cell_type": "code",
   "execution_count": 1,
   "metadata": {},
   "outputs": [],
   "source": [
    "import os\n",
    "import sys\n",
    "module_path = os.path.abspath(os.path.join('..'))\n",
    "if module_path not in sys.path:\n",
    "    sys.path.append(module_path)\n",
    "import src.active_learning as al\n",
    "\n",
    "import importlib as imp\n",
    "import numpy as np\n",
    "import pandas as pd \n",
    "import matplotlib.pyplot as plt\n",
    "import seaborn as sns\n",
    "from tqdm import tqdm_notebook as tqdm\n",
    "import torchvision.datasets as dset\n",
    "import torchvision.transforms as transforms\n",
    "import torch \n",
    "import torch.nn as nn\n",
    "from torch.autograd import Variable\n",
    "import torch.optim as optim\n",
    "from torch.utils.data.dataset import Dataset\n",
    "from torch.utils.data.sampler import SubsetRandomSampler\n",
    "import pyro\n",
    "\n",
    "%matplotlib inline"
   ]
  },
  {
   "cell_type": "code",
   "execution_count": 125,
   "metadata": {},
   "outputs": [],
   "source": [
    "al = imp.reload(al)"
   ]
  },
  {
   "cell_type": "code",
   "execution_count": 2,
   "metadata": {},
   "outputs": [],
   "source": [
    "######## SET PARAMS ##########\n",
    "batch_size = 8\n",
    "start_size = 64\n",
    "\n",
    "##############################\n",
    "\n",
    "# Get raw datasets \n",
    "train_set = dset.MNIST(root='./data', train=True, transform=transforms.ToTensor(),download=False)\n",
    "val_set = \n",
    "test_set = dset.MNIST(root='./data', train=False, transform=transforms.ToTensor())\n",
    "\n",
    "# Get loaders and initial indices\n",
    "loaders, init_idx, unlab_idx = al.setup_data_loaders(batch_size=batch_size, starting_size=start_size,\\\n",
    "                                                     use_cuda=False)\n",
    "train_loader, unlab_loader, val_loader, test_loader = loaders"
   ]
  },
  {
   "cell_type": "code",
   "execution_count": 3,
   "metadata": {},
   "outputs": [],
   "source": [
    "# Get x/y split for the validation and test sets \n",
    "val_x,val_y = al.get_xy_split(val_loader)\n",
    "test_x,test_y = al.get_xy_split(test_loader)\n"
   ]
  },
  {
   "cell_type": "markdown",
   "metadata": {},
   "source": [
    "### Idea:\n",
    "\n",
    "You start with 64 random points to make a model. Then you get to choose 16 points to have the labels given to you.  Just pass a policy function that decides which policy to follow to get the new points.  Then compare the two policies and show that the \"active learning\" (with intelligent policy performs better)."
   ]
  },
  {
   "cell_type": "code",
   "execution_count": 90,
   "metadata": {},
   "outputs": [],
   "source": [
    "def get_dataset_split(train_set, other_size=10000, random_seed=1992):\n",
    "    np.random.seed(random_seed)\n",
    "    if isinstance(train_set, tuple):\n",
    "#         print(train_set[0].size(),train_set[0][0].size())\n",
    "        msk = np.random.choice(range(len(train_set[1])),size=other_size, replace=False)\n",
    "        x1_tensor = torch.cat([train_set[0][i].view(-1,28,28) for i in msk])\n",
    "        y1_tensor = torch.LongTensor([train_set[1][i] for i in msk])\n",
    "        x2_tensor = torch.cat([train_set[0][i].view(-1,28,28) for i in range(len(train_set[1])) if i not in msk])\n",
    "        y2_tensor = torch.LongTensor([train_set[1][i] for i in range(len(train_set[1])) if i not in msk])\n",
    "    else:\n",
    "        msk = np.random.choice(range(len(train_set)),size=other_size, replace=False)\n",
    "        x1_tensor = torch.cat([train_set[i][0] for i in msk])\n",
    "        y1_tensor = torch.LongTensor([train_set[i][1] for i in msk])\n",
    "        x2_tensor = torch.cat([train_set[i][0] for i in range(len(train_set)) if i not in msk])\n",
    "        y2_tensor = torch.LongTensor([train_set[i][1] for i in range(len(train_set)) if i not in msk])\n",
    "    return x2_tensor, y2_tensor, x1_tensor, y1_tensor\n",
    "\n",
    "# train_x, train_y, val_x, val_y = get_train_split(train_set)"
   ]
  },
  {
   "cell_type": "code",
   "execution_count": 63,
   "metadata": {},
   "outputs": [
    {
     "data": {
      "text/plain": [
       "50000"
      ]
     },
     "execution_count": 63,
     "metadata": {},
     "output_type": "execute_result"
    }
   ],
   "source": [
    "len(train_y)"
   ]
  },
  {
   "cell_type": "code",
   "execution_count": 209,
   "metadata": {},
   "outputs": [
    {
     "name": "stdout",
     "output_type": "stream",
     "text": [
      "[39057 25989 27064 33398  2061 39768 13615 23372 14361 13972 33860 32476\n",
      " 27811  4568 31973 43469]\n",
      "test_acc 0.0997\n"
     ]
    },
    {
     "data": {
      "image/png": "[encoded data removed]",
      "text/plain": [
       "<matplotlib.figure.Figure at 0x147877cf8>"
      ]
     },
     "metadata": {},
     "output_type": "display_data"
    }
   ],
   "source": [
    "model = logreg(classes=10)\n",
    "loss_func = nn.NLLLoss()\n",
    "optimizer = optim.SGD(model.parameters(), lr=.01)\n",
    "\n",
    "def train_(model, train_x, train_y, loss_func, optimizer, epochs=10, batch_size=8):\n",
    "    losses,itrs = [],0\n",
    "    tensor_dataset = torch.utils.data.dataset.TensorDataset(train_x,train_y)\n",
    "    tr_loader = torch.utils.data.DataLoader(dataset=tensor_dataset, batch_size=batch_size, shuffle=True)\n",
    "    \n",
    "    for epoch in range(epochs):\n",
    "        for i,(batch_x,batch_y) in enumerate(tr_loader):\n",
    "            batch_x = Variable(batch_x)\n",
    "            batch_y = Variable(batch_y)\n",
    "\n",
    "            y_pred = model(batch_x)\n",
    "            loss = loss_func(y_pred, batch_y)\n",
    "\n",
    "            optimizer.zero_grad()\n",
    "            loss.backward()\n",
    "            optimizer.step()\n",
    "\n",
    "            itrs+=1\n",
    "            losses.append(loss.data.numpy()[0])\n",
    "\n",
    "    return list(range(itrs)), losses\n",
    "\n",
    "def active_learn(model, train_x, train_y, policy, loss_func, optimizer, val_x, val_y, \\\n",
    "                 epochs_per_train=10, npoints=16, batch_size=8, meta_epochs=10):\n",
    "    \"\"\" Active learning based on a specified policy. \"\"\"\n",
    "    # initialy train the model and then based on unlabeled results use the policy to choose more points ans iterate\n",
    "    total_acc = []\n",
    "    unlab_x,unlab_y,lab_x,lab_y = get_dataset_split((train_x,train_y), other_size=npoints, \\\n",
    "                                                  random_seed=832)\n",
    "\n",
    "    for e in range(meta_epochs):\n",
    "        # Train the model\n",
    "        itr, losses = train_(model, lab_x, lab_y, loss_func, optimizer, epochs=epochs_per_train, \\\n",
    "                             batch_size=batch_size)\n",
    "        \n",
    "        # Get the next points to label \n",
    "        unlab_x,unlab_y, addtl_x, addtl_y = get_req_points(model, unlab_x, unlab_y, policy=policy, n=16)\n",
    "        lab_x, lab_y = torch.cat([lab_x, addtl_x]), torch.cat([lab_y, addtl_y])\n",
    " \n",
    "        # Get accuracy of the model \n",
    "        total_acc.append(al.accuracy(model,val_x,val_y))\n",
    "        \n",
    "    return list(range(meta_epochs)), total_acc\n",
    "\n",
    "\n",
    "def get_req_points(model, unlab_x, unlab_y, policy='random', n=16):\n",
    "    if policy!='random':\n",
    "        pred_y = model.forward(Variable(unlab_x))\n",
    "        if policy=='boundary':\n",
    "            fn = boundary_policy\n",
    "        elif policy=='uniform':\n",
    "            fn = uniform_policy\n",
    "        elif policy=='max_entropy':\n",
    "            fn = max_entropy_policy\n",
    "        elif policy=='conf':\n",
    "            fn = least_confidence_policy\n",
    "        idxs = fn(pred_y, n=n)\n",
    "        new_u_x, new_u_y, add_x, add_y = get_idx_split(unlab_x, unlab_y, idxs)\n",
    "    else: \n",
    "        new_u_x, new_u_y, add_x, add_y = get_dataset_split((unlab_x,unlab_y), other_size=n, random_seed=13)\n",
    "    return new_u_x, new_u_y, add_x, add_y\n",
    "\n",
    "def boundary_policy(pred_y, n):\n",
    "    result = al.boundary_proximity(pred_y, num_points=n)\n",
    "    print(result)\n",
    "    return result\n",
    "\n",
    "def get_idx_split(data_x, data_y, idx):\n",
    "    x1_tensor = torch.cat([data_x[i].view(-1,28,28) for i in idx])\n",
    "    y1_tensor = torch.LongTensor([data_y[i] for i in idx])\n",
    "    x2_tensor = torch.cat([data_x[i].view(-1,28,28) for i in range(len(data_y)) if i not in idx])\n",
    "    y2_tensor = torch.LongTensor([data_y[i] for i in range(len(data_y)) if i not in idx])\n",
    "    return x2_tensor, y2_tensor, x1_tensor, y1_tensor\n",
    "\n",
    "def max_entropy_policy(pred_y, n):\n",
    "    \"\"\" Source of math: https://www.cs.cmu.edu/~tom/10701_sp11/recitations/Recitation_13.pdf \"\"\"\n",
    "#     print(pred_y.size())\n",
    "#     print(pred_y)\n",
    "    probs = torch.exp(pred_y.data)\n",
    "#     print(probs.size())\n",
    "#     print(probs)\n",
    "#     prob_logprob = np.multiply(probs, np.log2(probs))\n",
    "    prob_logprob = probs*pred_y.data\n",
    "#     print(prob_logprob.size())\n",
    "#     print(prob_logprob)\n",
    "    max_ent = -torch.sum(prob_logprob, dim=1)\n",
    "#     print(max_ent)\n",
    "#     print(torch.max(max_ent,0))\n",
    "#     print(np.max(max_ent.numpy()))\n",
    "#     print(np.argmax(max_ent))\n",
    "    max_ent_idxs = al.n_argmax(max_ent, size=n)\n",
    "#     print(max_ent_idxs)\n",
    "    return max_ent_idxs\n",
    "\n",
    "def least_confidence_policy(pred_y, n):\n",
    "    maxes = torch.max(torch.exp(pred_y.data),1)[0]\n",
    "    least_conf = 1.0-maxes\n",
    "    least_conf_idx = al.n_argmax(least_conf, size=n)\n",
    "    return least_conf_idx\n",
    "\n",
    "def uniform_policy(pred_y, n):\n",
    "    cut = n%10\n",
    "    times = n//10\n",
    "    _,preds = torch.max(pred_y,dim=1)\n",
    "    output = []\n",
    "    for res in range(10): # number of classes\n",
    "        pred_idx = [idx for idx, elm in enumerate(preds) if elm.data.numpy()[0] == res]\n",
    "        if len(pred_idx) < (times+1):\n",
    "            if res<cut:\n",
    "                output.extend(np.random.choice(range(len(preds)),size=times+1))\n",
    "            else:\n",
    "                output.extend(np.random.choice(range(len(preds)),size=times))\n",
    "            continue\n",
    "        if res<cut:\n",
    "            output.extend(np.random.choice(pred_idx, size=times+1))\n",
    "        else:\n",
    "            output.extend(np.random.choice(pred_idx, size=times))\n",
    "    return np.array(output)\n",
    "    \n",
    "# itr, acc = train_(model,train_x,train_y)\n",
    "# itr, acc = train_(model,train_x[:16],train_y[:16],loss_func, optimizer)\n",
    "res = get_req_points(model, train_x, train_y, policy='max_entropy', n=16)\n",
    "rrr = get_req_points(model, train_x, train_y, policy='boundary', n=16)\n",
    "# it, ac = active_learn(model, train_x, train_y, 'boundary', loss_func, optimizer, val_x, val_y, \\\n",
    "#                  epochs_per_train=10, npoints=16, batch_size=8, meta_epochs=10)\n",
    "plt.plot(it,ac)\n",
    "print('test_acc',al.accuracy(model,test_x,test_y))"
   ]
  },
  {
   "cell_type": "code",
   "execution_count": 151,
   "metadata": {},
   "outputs": [],
   "source": [
    "def plot_al_results(meta_epochs, accs, labs): \n",
    "    itrs = np.array(list(range(meta_epochs)))\n",
    "    means, errs = [], []\n",
    "    for ac in accs:\n",
    "        means.append(np.mean(ac, axis=0))\n",
    "        errs.append(np.std(ac,axis=0))\n",
    "\n",
    "    plt.figure(figsize=(8,8))\n",
    "    for ac_mean, ac_err, ac_lab in zip(means, errs, labs):\n",
    "        plt.plot(itrs, ac_mean, label=ac_lab)\n",
    "        plt.fill_between(itrs, ac_mean+ac_err, ac_mean-ac_err, alpha=0.4)\n",
    "\n",
    "    plt.title('Accuracy of various active learning policies.')\n",
    "    plt.xlabel('Meta Epochs')\n",
    "    plt.ylabel('Accuracy')\n",
    "    plt.legend()\n",
    "    sns.despine()"
   ]
  },
  {
   "cell_type": "code",
   "execution_count": 137,
   "metadata": {},
   "outputs": [
    {
     "data": {
      "application/vnd.jupyter.widget-view+json": {
       "model_id": "da151002a7e543639eff704c92550926",
       "version_major": 2,
       "version_minor": 0
      },
      "text/plain": [
       "A Jupyter Widget"
      ]
     },
     "metadata": {},
     "output_type": "display_data"
    },
    {
     "name": "stdout",
     "output_type": "stream",
     "text": [
      "\n",
      "Active Learning with random policy done!\n"
     ]
    },
    {
     "data": {
      "application/vnd.jupyter.widget-view+json": {
       "model_id": "1f39d6e295794d3f8455f5616e4e80be",
       "version_major": 2,
       "version_minor": 0
      },
      "text/plain": [
       "A Jupyter Widget"
      ]
     },
     "metadata": {},
     "output_type": "display_data"
    },
    {
     "name": "stdout",
     "output_type": "stream",
     "text": [
      "\n",
      "Active Learning with boundary policy done!\n"
     ]
    },
    {
     "data": {
      "application/vnd.jupyter.widget-view+json": {
       "model_id": "ab05987c3e7344228c6a287620014c94",
       "version_major": 2,
       "version_minor": 0
      },
      "text/plain": [
       "A Jupyter Widget"
      ]
     },
     "metadata": {},
     "output_type": "display_data"
    },
    {
     "name": "stdout",
     "output_type": "stream",
     "text": [
      "\n",
      "Active Learning with boundary policy done!\n"
     ]
    }
   ],
   "source": [
    "########### GLOBAL EXPERIMENT PARAMS ############\n",
    "# Epochs of adding additional points\n",
    "meta_epochs = 15\n",
    "# Epochs per training run\n",
    "ept = 10 \n",
    "# Number of points to start with and add each run \n",
    "npoints = 16\n",
    "batch_size = 8\n",
    "learning_rate = 0.01\n",
    "# Number of runs to create a sampling distribution to quantify error \n",
    "samp_runs = 10\n",
    "\n",
    "#################################################\n",
    "\n",
    "# Random \n",
    "random_iters, random_acc = [],[]\n",
    "for i in tqdm(range(samp_runs)):\n",
    "    model_rand = logreg(classes=10)\n",
    "    optimizer_rand = optim.SGD(model_rand.parameters(), lr=learning_rate)\n",
    "    _, rand_acc = active_learn(model_rand, train_x, train_y, 'random', loss_func, optimizer_rand, \\\n",
    "                                        val_x, val_y, epochs_per_train=ept, npoints=npoints, \\\n",
    "                                        batch_size=batch_size, meta_epochs=meta_epochs)\n",
    "    random_acc.append(rand_acc)\n",
    "print('Active Learning with random policy done!')\n",
    "\n",
    "# Boundary\n",
    "boundary_iters, boundary_acc = [],[]\n",
    "for i in tqdm(range(samp_runs)):\n",
    "    model_bound = logreg(classes=10)\n",
    "    optimizer_bound = optim.SGD(model_bound.parameters(), lr=learning_rate)\n",
    "    _, bound_acc = active_learn(model_bound, train_x, train_y, 'boundary', loss_func, optimizer_bound, \\\n",
    "                                    val_x, val_y, epochs_per_train=ept, npoints=npoints, \\\n",
    "                                        batch_size=batch_size, meta_epochs=meta_epochs)\n",
    "    boundary_acc.append(bound_acc)\n",
    "print('Active Learning with boundary policy done!')\n",
    "\n"
   ]
  },
  {
   "cell_type": "code",
   "execution_count": 210,
   "metadata": {},
   "outputs": [
    {
     "data": {
      "application/vnd.jupyter.widget-view+json": {
       "model_id": "69a878f787ff448c86b5ec45a5ac55eb",
       "version_major": 2,
       "version_minor": 0
      },
      "text/plain": [
       "A Jupyter Widget"
      ]
     },
     "metadata": {},
     "output_type": "display_data"
    },
    {
     "name": "stdout",
     "output_type": "stream",
     "text": [
      "\n",
      "Active Learning with maximum entropy policy done!\n"
     ]
    }
   ],
   "source": [
    "# Max Entropy\n",
    "entropy_iters, entropy_acc = [],[]\n",
    "for i in tqdm(range(samp_runs)):\n",
    "    model_ent = logreg(classes=10)\n",
    "    optimizer_ent = optim.SGD(model_ent.parameters(), lr=learning_rate)\n",
    "    _, ent_acc = active_learn(model_ent, train_x, train_y, 'max_entropy', loss_func, optimizer_ent, \\\n",
    "                                    val_x, val_y, epochs_per_train=ept, npoints=npoints, \\\n",
    "                                        batch_size=batch_size, meta_epochs=meta_epochs)\n",
    "    entropy_acc.append(ent_acc)\n",
    "print('Active Learning with maximum entropy policy done!')"
   ]
  },
  {
   "cell_type": "code",
   "execution_count": 170,
   "metadata": {},
   "outputs": [
    {
     "data": {
      "application/vnd.jupyter.widget-view+json": {
       "model_id": "c7fef36331de4ecc8cf913b663b62002",
       "version_major": 2,
       "version_minor": 0
      },
      "text/plain": [
       "A Jupyter Widget"
      ]
     },
     "metadata": {},
     "output_type": "display_data"
    },
    {
     "name": "stdout",
     "output_type": "stream",
     "text": [
      "\n",
      "Active Learning with least confidence policy done!\n"
     ]
    }
   ],
   "source": [
    "# Least Confidence\n",
    "confidence_acc = []\n",
    "for i in tqdm(range(samp_runs)):\n",
    "    model_conf = logreg(classes=10)\n",
    "    optimizer_conf = optim.SGD(model_conf.parameters(), lr=learning_rate)\n",
    "    _, conf_acc = active_learn(model_conf, train_x, train_y, 'conf', loss_func, optimizer_conf, \\\n",
    "                                    val_x, val_y, epochs_per_train=ept, npoints=npoints, \\\n",
    "                                        batch_size=batch_size, meta_epochs=meta_epochs)\n",
    "    confidence_acc.append(conf_acc)\n",
    "print('Active Learning with least confidence policy done!')"
   ]
  },
  {
   "cell_type": "code",
   "execution_count": 188,
   "metadata": {},
   "outputs": [
    {
     "data": {
      "application/vnd.jupyter.widget-view+json": {
       "model_id": "3e39c17b52f246c8bddaf7ccab16bfde",
       "version_major": 2,
       "version_minor": 0
      },
      "text/plain": [
       "A Jupyter Widget"
      ]
     },
     "metadata": {},
     "output_type": "display_data"
    },
    {
     "name": "stdout",
     "output_type": "stream",
     "text": [
      "\n",
      "Active Learning with uniform policy done!\n"
     ]
    }
   ],
   "source": [
    "# Uniform\n",
    "uniform_acc = []\n",
    "for i in tqdm(range(samp_runs)):\n",
    "    model_unif = logreg(classes=10)\n",
    "    optimizer_unif = optim.SGD(model_unif.parameters(), lr=learning_rate)\n",
    "    _, unif_acc = active_learn(model_unif, train_x, train_y, 'uniform', loss_func, optimizer_unif, \\\n",
    "                                    val_x, val_y, epochs_per_train=ept, npoints=npoints, \\\n",
    "                                        batch_size=batch_size, meta_epochs=meta_epochs)\n",
    "    uniform_acc.append(unif_acc)\n",
    "print('Active Learning with uniform policy done!')"
   ]
  },
  {
   "cell_type": "code",
   "execution_count": 211,
   "metadata": {},
   "outputs": [
    {
     "data": {
      "image/png": "[encoded data removed]",
      "text/plain": [
       "<matplotlib.figure.Figure at 0x1541c39b0>"
      ]
     },
     "metadata": {},
     "output_type": "display_data"
    }
   ],
   "source": [
    "accs = [random_acc,boundary_acc,entropy_acc, confidence_acc,uniform_acc]\n",
    "labs = ['Random','Boundary','Max Entropy', 'Least Confidence','Uniform']\n",
    "plot_al_results(meta_epochs,accs,labs)"
   ]
  },
  {
   "cell_type": "code",
   "execution_count": null,
   "metadata": {},
   "outputs": [],
   "source": [
    "# add cluster policy?\n",
    "# get max entropy and least confidence working"
   ]
  },
  {
   "cell_type": "code",
   "execution_count": null,
   "metadata": {},
   "outputs": [],
   "source": []
  },
  {
   "cell_type": "code",
   "execution_count": null,
   "metadata": {},
   "outputs": [],
   "source": []
  },
  {
   "cell_type": "code",
   "execution_count": null,
   "metadata": {},
   "outputs": [],
   "source": []
  },
  {
   "cell_type": "code",
   "execution_count": null,
   "metadata": {},
   "outputs": [],
   "source": []
  },
  {
   "cell_type": "code",
   "execution_count": 156,
   "metadata": {},
   "outputs": [],
   "source": [
    "def train_model(model, data_loader, loss_func, optimizer, epochs=10):\n",
    "    \"\"\" Function to train the model \"\"\"\n",
    "    losses,itrs = [],0\n",
    "\n",
    "    for epoch in range(epochs):\n",
    "        for i,(batch_x,batch_y) in enumerate(data_loader):\n",
    "            batch_x = Variable(batch_x)\n",
    "            batch_y = Variable(batch_y)\n",
    "\n",
    "            y_pred = model(batch_x)\n",
    "            loss = loss_func(y_pred, batch_y)\n",
    "\n",
    "            optimizer.zero_grad()\n",
    "            loss.backward()\n",
    "            optimizer.step()\n",
    "\n",
    "            itrs+=1\n",
    "            losses.append(loss.data.numpy()[0])\n",
    "            \n",
    "    # For plotting \n",
    "    return list(range(itrs)), losses\n",
    "\n",
    "def active_learn(model, base_data, train_idx, unlab_idx, policy, loss_func, optimizer, val_loader, \\\n",
    "                 epochs_per_train=10, points_per_itr=16, batch_size=8, meta_epochs=20):\n",
    "    \"\"\" Active learning based on a specified policy. \"\"\"\n",
    "    # initialy train the model and then based on unlabeled results use the policy to choose more points ans iterate\n",
    "    total_acc = []\n",
    "    train_data, _ = al.get_dataloader(train_idx, [], base_data, batch_size=batch_size)\n",
    "    unlab_data, _ = al.get_dataloader(unlab_idx, [], base_data, batch_size=len(unlab_idx))\n",
    "    val_x, val_y = al.get_xy_split(val_loader)\n",
    "    \n",
    "    for e in tqdm(range(meta_epochs)):\n",
    "        # Train the model\n",
    "        itr, losses = train_model(model, train_data, loss_func, optimizer, epochs=epochs_per_train)\n",
    "        \n",
    "        # Get the next points to label and add to training \n",
    "        new_points = al.get_requested_points(model, unlab_data, unlab_idx, policy=policy, \\\n",
    "                                             num_points=points_per_itr)\n",
    "        \n",
    "        # Get the new DataLoaders based on the selection of the points \n",
    "        train_data, train_idx = al.get_dataloader(train_idx, new_points, base_data, batch_size=batch_size)\n",
    "        unlab_idx = list(set(unlab_idx)-set(new_points))\n",
    "        unlab_data, unlab_idx = al.get_dataloader(unlab_idx, [], base_data, batch_size=len(unlab_idx))\n",
    "        \n",
    "        # Get accuracy of the model \n",
    "        total_acc.append(al.accuracy(model,val_x,val_y))\n",
    "        \n",
    "    return list(range(meta_epochs)), total_acc\n",
    "\n",
    "\n",
    "def random_policy(unlab_preds, unlab_idx, num_points):\n",
    "    return np.random.choice(unlab_idx, size=num_points, replace=False)\n",
    "\n",
    "def boundary_policy(unlab_preds, unlab_idx, num_points):\n",
    "    args_boundary = al.boundary_proximity(unlab_preds, num_points)\n",
    "    policy_idxs = np.array([unlab_idx[i] for i in args_boundary])\n",
    "    return policy_idxs\n",
    "\n",
    "\n",
    "def even_policy(unlab_preds, unlab_idx, num_points):\n",
    "    cut = num_points%10\n",
    "    times = num_points//10\n",
    "    _,preds = torch.max(unlab_preds,dim=1)\n",
    "    output = []\n",
    "    for res in range(10):\n",
    "        if res<cut:\n",
    "            output.extend(np.random.choice([idx for idx, elm in enumerate(preds) \\\n",
    "                                            if elm.data.numpy()[0] == res], size=times+1))\n",
    "        else:\n",
    "            output.extend(np.random.choice([idx for idx, elm in enumerate(preds) \\\n",
    "                                            if elm.data.numpy()[0] == res], size=times))\n",
    "    return np.array(output)\n"
   ]
  },
  {
   "cell_type": "code",
   "execution_count": 178,
   "metadata": {},
   "outputs": [],
   "source": [
    "# Define the model\n",
    "class logreg(nn.Module):\n",
    "    \"\"\" Logistic regression \"\"\"\n",
    "    def __init__(self, classes):\n",
    "        super(logreg, self).__init__()\n",
    "        self.classes = classes\n",
    "        self.w = nn.Linear(28*28,classes)\n",
    "        \n",
    "    def forward(self, x):\n",
    "        x = self.w(x.view(-1,1,28*28))\n",
    "        return nn.functional.log_softmax(x.view(-1,self.classes),dim=1)\n",
    "\n"
   ]
  },
  {
   "cell_type": "code",
   "execution_count": null,
   "metadata": {},
   "outputs": [],
   "source": []
  }
 ],
 "metadata": {
  "kernelspec": {
   "display_name": "Python 3",
   "language": "python",
   "name": "python3"
  },
  "language_info": {
   "codemirror_mode": {
    "name": "ipython",
    "version": 3
   },
   "file_extension": ".py",
   "mimetype": "text/x-python",
   "name": "python",
   "nbconvert_exporter": "python",
   "pygments_lexer": "ipython3",
   "version": "3.6.2"
  }
 },
 "nbformat": 4,
 "nbformat_minor": 2
}
