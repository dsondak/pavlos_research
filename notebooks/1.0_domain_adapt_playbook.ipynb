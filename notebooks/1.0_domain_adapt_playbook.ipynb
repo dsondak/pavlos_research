{
 "cells": [
  {
   "cell_type": "markdown",
   "metadata": {},
   "source": [
    "### Initial playground for domain adaptation and moving into active learning\n",
    "\n",
    "* Paul Blankley "
   ]
  },
  {
   "cell_type": "code",
   "execution_count": 163,
   "metadata": {},
   "outputs": [],
   "source": [
    "import os\n",
    "import sys\n",
    "module_path = os.path.abspath(os.path.join('..'))\n",
    "if module_path not in sys.path:\n",
    "    sys.path.append(module_path)\n",
    "import src.active_learning as al"
   ]
  },
  {
   "cell_type": "code",
   "execution_count": 51,
   "metadata": {},
   "outputs": [],
   "source": [
    "import numpy as np\n",
    "import pandas as pd \n",
    "import matplotlib.pyplot as plt\n",
    "import seaborn as sns\n",
    "from tqdm import tqdm_notebook as tqdm\n",
    "import torchvision.datasets as dset\n",
    "import torchvision.transforms as transforms\n",
    "import torch \n",
    "import torch.nn as nn\n",
    "from torch.autograd import Variable\n",
    "import torch.optim as optim\n",
    "from torch.utils.data.dataset import Dataset\n",
    "from torch.utils.data.sampler import SubsetRandomSampler\n",
    "import pyro\n",
    "\n",
    "%matplotlib inline"
   ]
  },
  {
   "cell_type": "code",
   "execution_count": 58,
   "metadata": {},
   "outputs": [],
   "source": [
    "def _get_samplers(total_len,init_size,val_size=10000, random_seed=1492):\n",
    "    \"\"\" Get docs at some point, but this basically just get the samplers for initialization\"\"\"\n",
    "    if random_seed:\n",
    "        np.random.seed(random_seed)\n",
    "    # Get Indices for validation and for initial random training sample\n",
    "    idxs = list(range(len(train_set)))\n",
    "    val_idx = np.random.choice(idxs,size=val_size, replace=False)\n",
    "    train_idx = list(set(idxs)-set(val_idx))\n",
    "    init_labels_idx = np.random.choice(train_idx,size=init_size, replace=False)\n",
    "    unlabeled_idx = list(set(idxs)-set(init_labels_idx))\n",
    "    \n",
    "    # Get samplers for torch\n",
    "    val_sampler = SubsetRandomSampler(val_idx)\n",
    "    train_sampler = SubsetRandomSampler(init_labels_idx)\n",
    "    unlabeled_sampler =  SubsetRandomSampler(unlabeled_idx)\n",
    "    return train_sampler, unlabeled_sampler, val_sampler, init_labels_idx, unlabeled_idx\n",
    "\n",
    "# for loading and batching MNIST dataset\n",
    "def setup_data_loaders(batch_size=8, starting_size=64, val_size=10000, use_cuda=False):\n",
    "    root = './data'\n",
    "    download = True\n",
    "    trans = transforms.ToTensor()\n",
    "    train_set = dset.MNIST(root=root, train=True, transform=trans,\n",
    "                           download=download)\n",
    "    test_set = dset.MNIST(root=root, train=False, transform=trans)\n",
    "\n",
    "    tr_samp, unlab_samp, val_samp, init_idx, unlab_idx = _get_samplers(len(train_set), starting_size, val_size)\n",
    "    \n",
    "    kwargs = {'num_workers': 1, 'pin_memory': use_cuda}\n",
    "    train_loader = torch.utils.data.DataLoader(dataset=train_set, batch_size=batch_size, \\\n",
    "                                               sampler=tr_samp, **kwargs)\n",
    "    unlab_loader = torch.utils.data.DataLoader(dataset=train_set, batch_size=len(unlab_idx), \\\n",
    "                                               sampler=unlab_samp, **kwargs)\n",
    "    val_loader = torch.utils.data.DataLoader(dataset=train_set, batch_size=val_size, \\\n",
    "                                             sampler=val_samp, **kwargs)\n",
    "    test_loader = torch.utils.data.DataLoader(dataset=test_set, batch_size=len(test_set), \\\n",
    "                                              shuffle=False, **kwargs)\n",
    "    return (train_loader, unlab_loader, val_loader, test_loader), init_idx, unlab_idx\n",
    "\n"
   ]
  },
  {
   "cell_type": "code",
   "execution_count": 59,
   "metadata": {},
   "outputs": [],
   "source": [
    "######## SET PARAMS ##########\n",
    "batch_size = 8\n",
    "start_size = 64\n",
    "\n",
    "##############################\n",
    "\n",
    "# Get raw datasets \n",
    "train_set = dset.MNIST(root='./data', train=True, transform=transforms.ToTensor(),download=False)\n",
    "test_set = dset.MNIST(root='./data', train=False, transform=transforms.ToTensor())\n",
    "\n",
    "# Get loaders and initial indices\n",
    "loaders, init_idx, unlab_idx = setup_data_loaders(batch_size=batch_size, starting_size=start_size, use_cuda=False)\n",
    "train_loader, unlab_loader, val_loader, test_loader = loaders"
   ]
  },
  {
   "cell_type": "code",
   "execution_count": 149,
   "metadata": {},
   "outputs": [],
   "source": [
    "# Get the x,y seperation\n",
    "def get_xy_split(loader):\n",
    "    \"\"\" Get the x/y split for a dataloader \"\"\"\n",
    "    temp_x,temp_y = [],[]\n",
    "    for tx,ty in loader:\n",
    "        temp_x.append(tx)\n",
    "        temp_y.append(ty)\n",
    "    return torch.cat(temp_x), torch.cat(temp_y)\n",
    "\n",
    "# Get dataloader from sets of inidces\n",
    "def get_dataloader(labels_idx, new_labels_idx,base_data=train_set,batch_size=8):\n",
    "    \"\"\" This method takes in the old indices and the new indices requested by the model and \n",
    "    generates a dataloader based on the union of the set of the two arrays of indices.\"\"\"\n",
    "    all_labels_idx = np.append(labels_idx, new_labels_idx)\n",
    "    new_sampler = SubsetRandomSampler(all_labels_idx)\n",
    "    new_loader = torch.utils.data.DataLoader(dataset=base_data, batch_size=batch_size, sampler=new_sampler)\n",
    "    return new_loader \n",
    "\n",
    "# Accuracy \n",
    "def accuracy(model,x,y):\n",
    "    \"\"\" Get classification accuracy \"\"\"\n",
    "    probs = model(Variable(x))\n",
    "    _,ypred = torch.max(probs,1)\n",
    "    acc = (ypred.data.numpy()==y.numpy()).sum()/len(y)\n",
    "    return acc\n",
    "  "
   ]
  },
  {
   "cell_type": "code",
   "execution_count": 164,
   "metadata": {},
   "outputs": [],
   "source": [
    "# Get x/y split for the validation and test sets \n",
    "val_x,val_y = al.get_xy_split(val_loader)\n",
    "test_x,test_y = al.get_xy_split(test_loader)\n"
   ]
  },
  {
   "cell_type": "markdown",
   "metadata": {},
   "source": [
    "### Idea:\n",
    "\n",
    "You start with 64 random points to make a model. Then you get to choose 16 points to have the labels given to you.  Just pass a policy function that decides which policy to follow to get the new points.  Then compare the two policies and show that the \"active learning\" (with intelligent policy performs better)."
   ]
  },
  {
   "cell_type": "code",
   "execution_count": 85,
   "metadata": {},
   "outputs": [
    {
     "data": {
      "application/vnd.jupyter.widget-view+json": {
       "model_id": "2f7e6784b36e4af2a8b27196b8cf0722",
       "version_major": 2,
       "version_minor": 0
      },
      "text/plain": [
       "A Jupyter Widget"
      ]
     },
     "metadata": {},
     "output_type": "display_data"
    },
    {
     "name": "stdout",
     "output_type": "stream",
     "text": [
      "\n"
     ]
    }
   ],
   "source": [
    "# Define the model\n",
    "class logreg(nn.Module):\n",
    "    \"\"\" Logistic regression \"\"\"\n",
    "    def __init__(self, classes):\n",
    "        super(logreg, self).__init__()\n",
    "        self.classes = classes\n",
    "        self.w = nn.Linear(28*28,classes)\n",
    "        \n",
    "    def forward(self, x):\n",
    "        x = self.w(x.view(-1,1,28*28))\n",
    "        return x.view(-1,self.classes)\n",
    "\n",
    "\n",
    "def train_model(model, data_loader, loss_func, optimizer, epochs=10):\n",
    "    \"\"\" Function to train the model \"\"\"\n",
    "    losses,itrs = [],0\n",
    "\n",
    "    for epoch in tqdm(range(epochs)):\n",
    "        for i,(batch_x,batch_y) in enumerate(data_loader):\n",
    "            batch_x = Variable(batch_x)\n",
    "            batch_y = Variable(batch_y)\n",
    "\n",
    "            y_pred = model(batch_x)\n",
    "            loss = loss_func(y_pred, batch_y)\n",
    "\n",
    "            optimizer.zero_grad()\n",
    "            loss.backward()\n",
    "            optimizer.step()\n",
    "\n",
    "            itrs+=1\n",
    "            losses.append(loss.data.numpy()[0])\n",
    "            \n",
    "    # For plotting \n",
    "    return range(itrs), losses\n",
    "        \n",
    "    \n",
    "def get_requested_points(model, unlab_loader, policy, num_points=16):\n",
    "    unlab_preds = model(unlab_loader)\n",
    "    return policy(unlab_preds, num_points)\n",
    "\n",
    "\n",
    "\n",
    "\n",
    "model = logreg(classes=10)\n",
    "loss_func = nn.CrossEntropyLoss()\n",
    "optimizer = optim.SGD(model.parameters(), lr=.01)\n",
    "\n",
    "plot_itr, plot_loss = train_model(model, train_loader, loss_func, optimizer)"
   ]
  },
  {
   "cell_type": "code",
   "execution_count": 81,
   "metadata": {},
   "outputs": [],
   "source": [
    "test_get_requested_points()"
   ]
  },
  {
   "cell_type": "code",
   "execution_count": 154,
   "metadata": {},
   "outputs": [
    {
     "name": "stdout",
     "output_type": "stream",
     "text": [
      "[\n",
      "(0 ,0 ,.,.) = \n",
      "  0.0000  0.0000  0.0000  ...   0.0000  0.0000  0.0000\n",
      "  0.0000  0.0000  0.0000  ...   0.0000  0.0000  0.0000\n",
      "  0.0000  0.0000  0.0000  ...   0.0000  0.0000  0.0000\n",
      "           ...             ⋱             ...          \n",
      "  0.0000  0.0000  0.0000  ...   0.0000  0.0000  0.0000\n",
      "  0.0000  0.0000  0.0000  ...   0.0000  0.0000  0.0000\n",
      "  0.0000  0.0000  0.0000  ...   0.0000  0.0000  0.0000\n",
      "     ⋮ \n",
      "\n",
      "(1 ,0 ,.,.) = \n",
      "  0.0000  0.0000  0.0000  ...   0.0000  0.0000  0.0000\n",
      "  0.0000  0.0000  0.0000  ...   0.0000  0.0000  0.0000\n",
      "  0.0000  0.0000  0.0000  ...   0.0000  0.0000  0.0000\n",
      "           ...             ⋱             ...          \n",
      "  0.0000  0.0000  0.0000  ...   0.0000  0.0000  0.0000\n",
      "  0.0000  0.0000  0.0000  ...   0.0000  0.0000  0.0000\n",
      "  0.0000  0.0000  0.0000  ...   0.0000  0.0000  0.0000\n",
      "     ⋮ \n",
      "\n",
      "(2 ,0 ,.,.) = \n",
      "  0.0000  0.0000  0.0000  ...   0.0000  0.0000  0.0000\n",
      "  0.0000  0.0000  0.0000  ...   0.0000  0.0000  0.0000\n",
      "  0.0000  0.0000  0.0000  ...   0.0000  0.0000  0.0000\n",
      "           ...             ⋱             ...          \n",
      "  0.0000  0.0000  0.0000  ...   0.0000  0.0000  0.0000\n",
      "  0.0000  0.0000  0.0000  ...   0.0000  0.0000  0.0000\n",
      "  0.0000  0.0000  0.0000  ...   0.0000  0.0000  0.0000\n",
      "...   \n",
      "     ⋮ \n",
      "\n",
      "(5 ,0 ,.,.) = \n",
      "  0.0000  0.0000  0.0000  ...   0.0000  0.0000  0.0000\n",
      "  0.0000  0.0000  0.0000  ...   0.0000  0.0000  0.0000\n",
      "  0.0000  0.0000  0.0000  ...   0.0000  0.0000  0.0000\n",
      "           ...             ⋱             ...          \n",
      "  0.0000  0.0000  0.0000  ...   0.0000  0.0000  0.0000\n",
      "  0.0000  0.0000  0.0000  ...   0.0000  0.0000  0.0000\n",
      "  0.0000  0.0000  0.0000  ...   0.0000  0.0000  0.0000\n",
      "     ⋮ \n",
      "\n",
      "(6 ,0 ,.,.) = \n",
      "  0.0000  0.0000  0.0000  ...   0.0000  0.0000  0.0000\n",
      "  0.0000  0.0000  0.0000  ...   0.0000  0.0000  0.0000\n",
      "  0.0000  0.0000  0.0000  ...   0.0000  0.0000  0.0000\n",
      "           ...             ⋱             ...          \n",
      "  0.0000  0.0000  0.0000  ...   0.0000  0.0000  0.0000\n",
      "  0.0000  0.0000  0.0000  ...   0.0000  0.0000  0.0000\n",
      "  0.0000  0.0000  0.0000  ...   0.0000  0.0000  0.0000\n",
      "     ⋮ \n",
      "\n",
      "(7 ,0 ,.,.) = \n",
      "  0.0000  0.0000  0.0000  ...   0.0000  0.0000  0.0000\n",
      "  0.0000  0.0000  0.0000  ...   0.0000  0.0000  0.0000\n",
      "  0.0000  0.0000  0.0000  ...   0.0000  0.0000  0.0000\n",
      "           ...             ⋱             ...          \n",
      "  0.0000  0.0000  0.0000  ...   0.0000  0.0000  0.0000\n",
      "  0.0000  0.0000  0.0000  ...   0.0000  0.0000  0.0000\n",
      "  0.0000  0.0000  0.0000  ...   0.0000  0.0000  0.0000\n",
      "[torch.FloatTensor of size 8x1x28x28]\n",
      ", \n",
      " 0\n",
      " 5\n",
      " 1\n",
      " 9\n",
      " 2\n",
      " 9\n",
      " 7\n",
      " 8\n",
      "[torch.LongTensor of size 8]\n",
      "]\n"
     ]
    }
   ],
   "source": [
    "x = Variable(torch.Tensor(np.array([[1,2,3],[7,7,7],[4,5,6]])))\n",
    "y = torch.Tensor(np.array([2,0,1]))\n",
    "mod = lambda x: torch.nn.functional.softmax(x,dim=1)\n",
    "# np.allclose(\n",
    "tf = np.mean(torch.max(mod(x),1)[1].data.numpy()==y.numpy().astype(int))\n",
    "\n",
    "pf = accuracy(mod,x.data,y)\n",
    "np.allclose(tf,pf)\n",
    "for i in train_loader:\n",
    "    print(i)\n",
    "    break"
   ]
  },
  {
   "cell_type": "code",
   "execution_count": 71,
   "metadata": {},
   "outputs": [
    {
     "data": {
      "text/plain": [
       "[<matplotlib.lines.Line2D at 0x12720aeb8>]"
      ]
     },
     "execution_count": 71,
     "metadata": {},
     "output_type": "execute_result"
    },
    {
     "data": {
      "image/png": "[encoded data removed]",
      "text/plain": [
       "<matplotlib.figure.Figure at 0x13e374390>"
      ]
     },
     "metadata": {},
     "output_type": "display_data"
    }
   ],
   "source": [
    "plt.plot(plot_itr,plot_loss)"
   ]
  },
  {
   "cell_type": "code",
   "execution_count": 72,
   "metadata": {},
   "outputs": [
    {
     "name": "stdout",
     "output_type": "stream",
     "text": [
      "Accuracy on the validation set: 0.4947\n"
     ]
    }
   ],
   "source": [
    "acc_val = accuracy(model,val_x,val_y)\n",
    "print('Accuracy on the validation set:',acc_val)"
   ]
  },
  {
   "cell_type": "code",
   "execution_count": 73,
   "metadata": {},
   "outputs": [
    {
     "name": "stdout",
     "output_type": "stream",
     "text": [
      "logreg(\n",
      "  (w): Linear(in_features=784, out_features=10)\n",
      ")\n"
     ]
    }
   ],
   "source": [
    "print(model)"
   ]
  },
  {
   "cell_type": "code",
   "execution_count": 91,
   "metadata": {},
   "outputs": [
    {
     "data": {
      "text/plain": [
       "array([[ 0.42717293,  3.19764252,  0.14239098,  0.28478196,  2.226689  ,\n",
       "         0.        ],\n",
       "       [ 2.78756705,  2.18186078,  0.92918902,  1.85837803,  2.0740332 ,\n",
       "         0.        ],\n",
       "       [ 0.02217952,  0.13475335,  0.00739317,  0.01478635,  0.09476435,\n",
       "         0.        ]])"
      ]
     },
     "execution_count": 91,
     "metadata": {},
     "output_type": "execute_result"
    }
   ],
   "source": [
    "np.random.uniform(size=(3,2)) @ np.random.poisson(size=(2,6))"
   ]
  },
  {
   "cell_type": "code",
   "execution_count": null,
   "metadata": {},
   "outputs": [],
   "source": []
  }
 ],
 "metadata": {
  "kernelspec": {
   "display_name": "Python 3",
   "language": "python",
   "name": "python3"
  },
  "language_info": {
   "codemirror_mode": {
    "name": "ipython",
    "version": 3
   },
   "file_extension": ".py",
   "mimetype": "text/x-python",
   "name": "python",
   "nbconvert_exporter": "python",
   "pygments_lexer": "ipython3",
   "version": "3.6.2"
  }
 },
 "nbformat": 4,
 "nbformat_minor": 2
}
