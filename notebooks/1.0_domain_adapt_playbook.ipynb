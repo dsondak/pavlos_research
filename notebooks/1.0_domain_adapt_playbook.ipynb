{
 "cells": [
  {
   "cell_type": "markdown",
   "metadata": {},
   "source": [
    "### Initial playground for domain adaptation and moving into active learning\n",
    "\n",
    "* Paul Blankley "
   ]
  },
  {
   "cell_type": "code",
   "execution_count": 1,
   "metadata": {},
   "outputs": [],
   "source": [
    "import os\n",
    "import sys\n",
    "module_path = os.path.abspath(os.path.join('..'))\n",
    "if module_path not in sys.path:\n",
    "    sys.path.append(module_path)\n",
    "import src.active_learning as al\n",
    "\n",
    "import importlib as imp\n",
    "import numpy as np\n",
    "import pandas as pd \n",
    "import matplotlib.pyplot as plt\n",
    "import seaborn as sns\n",
    "from tqdm import tqdm_notebook as tqdm\n",
    "import torchvision.datasets as dset\n",
    "import torchvision.transforms as transforms\n",
    "import torch \n",
    "import torch.nn as nn\n",
    "from torch.autograd import Variable\n",
    "import torch.optim as optim\n",
    "from torch.utils.data.dataset import Dataset\n",
    "from torch.utils.data.sampler import SubsetRandomSampler\n",
    "import pyro\n",
    "\n",
    "%matplotlib inline"
   ]
  },
  {
   "cell_type": "code",
   "execution_count": 9,
   "metadata": {},
   "outputs": [],
   "source": [
    "al = imp.reload(al)"
   ]
  },
  {
   "cell_type": "code",
   "execution_count": 2,
   "metadata": {},
   "outputs": [],
   "source": [
    "######## SET PARAMS ##########\n",
    "batch_size = 8\n",
    "start_size = 64\n",
    "\n",
    "##############################\n",
    "\n",
    "# Get raw datasets \n",
    "train_set = dset.MNIST(root='./data', train=True, transform=transforms.ToTensor(),download=False)\n",
    "test_set = dset.MNIST(root='./data', train=False, transform=transforms.ToTensor())\n",
    "\n",
    "# Get loaders and initial indices\n",
    "loaders, init_idx, unlab_idx = al.setup_data_loaders(batch_size=batch_size, starting_size=start_size,\\\n",
    "                                                     use_cuda=False)\n",
    "train_loader, unlab_loader, val_loader, test_loader = loaders"
   ]
  },
  {
   "cell_type": "code",
   "execution_count": 3,
   "metadata": {},
   "outputs": [],
   "source": [
    "# Get x/y split for the validation and test sets \n",
    "val_x,val_y = al.get_xy_split(val_loader)\n",
    "test_x,test_y = al.get_xy_split(test_loader)\n"
   ]
  },
  {
   "cell_type": "markdown",
   "metadata": {},
   "source": [
    "### Idea:\n",
    "\n",
    "You start with 64 random points to make a model. Then you get to choose 16 points to have the labels given to you.  Just pass a policy function that decides which policy to follow to get the new points.  Then compare the two policies and show that the \"active learning\" (with intelligent policy performs better)."
   ]
  },
  {
   "cell_type": "code",
   "execution_count": null,
   "metadata": {},
   "outputs": [],
   "source": [
    "def train_model(model, data_loader, loss_func, optimizer, epochs=10):\n",
    "    \"\"\" Function to train the model \"\"\"\n",
    "    losses,itrs = [],0\n",
    "\n",
    "    for epoch in tqdm(range(epochs)):\n",
    "        for i,(batch_x,batch_y) in enumerate(data_loader):\n",
    "            batch_x = Variable(batch_x)\n",
    "            batch_y = Variable(batch_y)\n",
    "\n",
    "            y_pred = model(batch_x)\n",
    "            loss = loss_func(y_pred, batch_y)\n",
    "\n",
    "            optimizer.zero_grad()\n",
    "            loss.backward()\n",
    "            optimizer.step()\n",
    "\n",
    "            itrs+=1\n",
    "            losses.append(loss.data.numpy()[0])\n",
    "            \n",
    "    # For plotting \n",
    "    return list(range(itrs)), losses\n",
    "\n",
    "def active_learn(model, base_data, train_idx, unlab_idx, policy, loss_func, optimizer, val_loader, \\\n",
    "                 epoch_per_train=10, points_per_itr=16, batch_size=8, meta_epochs=20):\n",
    "    \"\"\" Active learning based on a specified policy. \"\"\"\n",
    "    # initialy train the model and then based on unlabeled results use the policy to choose more points ans iterate\n",
    "    total_acc = []\n",
    "    train_data, _ = al.get_dataloader(train_idx, [], base_data, batch_size=batch_size)\n",
    "    unlab_data, _ = al.get_dataloader(unlab_idx, [], base_data, batch_size=len(unlab_idx))\n",
    "    val_x, val_y = al.get_xy_split(val_loader)\n",
    "    \n",
    "    for e in range(meta_epochs):\n",
    "        # Train the model\n",
    "        itr, losses = train_model(model, train_data, loss_func, optimizer, epochs=epochs_per_train)\n",
    "        \n",
    "        # Get the next points to label and add to training \n",
    "        new_points = al.get_requested_points(model, unlab_data, policy, num_points=points_per_itr)\n",
    "        \n",
    "        # Get the new DataLoaders based on the selection of the points \n",
    "        train_data, train_idx = al.get_dataloader(train_idx, new_points, base_data, batch_size=batch_size)\n",
    "        unlab_idx = list(set(unlab_idx)-set(new_points))\n",
    "        unlab_data, unlab_idx = al.get_dataloader(unlab_idx, [], base_data, batch_size=len(unlab_idx))\n",
    "        \n",
    "        # Get accuracy of the model \n",
    "        total_acc.append(al.accuracy(model,val_x,val_y))\n",
    "        \n",
    "    return list(range(meta_epochs)), total_acc\n",
    "        \n",
    "        \n",
    "        "
   ]
  },
  {
   "cell_type": "code",
   "execution_count": 4,
   "metadata": {},
   "outputs": [
    {
     "data": {
      "application/vnd.jupyter.widget-view+json": {
       "model_id": "55bb928d2dda4c4ead06059437dd2597",
       "version_major": 2,
       "version_minor": 0
      },
      "text/plain": [
       "A Jupyter Widget"
      ]
     },
     "metadata": {},
     "output_type": "display_data"
    },
    {
     "name": "stdout",
     "output_type": "stream",
     "text": [
      "\n"
     ]
    }
   ],
   "source": [
    "# Define the model\n",
    "class logreg(nn.Module):\n",
    "    \"\"\" Logistic regression \"\"\"\n",
    "    def __init__(self, classes):\n",
    "        super(logreg, self).__init__()\n",
    "        self.classes = classes\n",
    "        self.w = nn.Linear(28*28,classes)\n",
    "        \n",
    "    def forward(self, x):\n",
    "        x = self.w(x.view(-1,1,28*28))\n",
    "        return x.view(-1,self.classes)\n",
    "\n",
    "\n",
    "model = logreg(classes=10)\n",
    "loss_func = nn.CrossEntropyLoss()\n",
    "optimizer = optim.SGD(model.parameters(), lr=.01)\n",
    "\n",
    "plot_itr, plot_loss = train_model(model, train_loader, loss_func, optimizer)"
   ]
  },
  {
   "cell_type": "code",
   "execution_count": 5,
   "metadata": {},
   "outputs": [
    {
     "data": {
      "text/plain": [
       "[<matplotlib.lines.Line2D at 0x133403240>]"
      ]
     },
     "execution_count": 5,
     "metadata": {},
     "output_type": "execute_result"
    },
    {
     "data": {
      "image/png": "[encoded data removed]",
      "text/plain": [
       "<matplotlib.figure.Figure at 0x132dc5dd8>"
      ]
     },
     "metadata": {},
     "output_type": "display_data"
    }
   ],
   "source": [
    "plt.plot(plot_itr,plot_loss)"
   ]
  },
  {
   "cell_type": "code",
   "execution_count": 6,
   "metadata": {},
   "outputs": [
    {
     "name": "stdout",
     "output_type": "stream",
     "text": [
      "Accuracy on the validation set: 0.459\n"
     ]
    }
   ],
   "source": [
    "acc_val = al.accuracy(model,val_x,val_y)\n",
    "print('Accuracy on the validation set:',acc_val)"
   ]
  },
  {
   "cell_type": "code",
   "execution_count": 7,
   "metadata": {},
   "outputs": [
    {
     "name": "stdout",
     "output_type": "stream",
     "text": [
      "logreg(\n",
      "  (w): Linear(in_features=784, out_features=10)\n",
      ")\n"
     ]
    }
   ],
   "source": [
    "print(model)"
   ]
  },
  {
   "cell_type": "code",
   "execution_count": 8,
   "metadata": {},
   "outputs": [
    {
     "data": {
      "text/plain": [
       "1"
      ]
     },
     "execution_count": 8,
     "metadata": {},
     "output_type": "execute_result"
    }
   ],
   "source": [
    "len(unlab_loader)"
   ]
  },
  {
   "cell_type": "code",
   "execution_count": null,
   "metadata": {},
   "outputs": [],
   "source": []
  }
 ],
 "metadata": {
  "kernelspec": {
   "display_name": "Python 3",
   "language": "python",
   "name": "python3"
  },
  "language_info": {
   "codemirror_mode": {
    "name": "ipython",
    "version": 3
   },
   "file_extension": ".py",
   "mimetype": "text/x-python",
   "name": "python",
   "nbconvert_exporter": "python",
   "pygments_lexer": "ipython3",
   "version": "3.6.2"
  }
 },
 "nbformat": 4,
 "nbformat_minor": 2
}
