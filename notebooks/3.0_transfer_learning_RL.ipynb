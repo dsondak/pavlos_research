{
 "cells": [
  {
   "cell_type": "markdown",
   "metadata": {},
   "source": [
    "### Transfer learning models:\n",
    "\n",
    "This notebook is about transfer learning models and the reinforcement learning agent to determine whether to use the transfer learner or an active learning policy."
   ]
  },
  {
   "cell_type": "code",
   "execution_count": 1,
   "metadata": {},
   "outputs": [],
   "source": [
    "import os\n",
    "import sys\n",
    "module_path = os.path.abspath(os.path.join('..'))\n",
    "if module_path not in sys.path:\n",
    "    sys.path.append(module_path)\n",
    "import src.active_learning as al\n",
    "import src.viz as viz\n",
    "import src.reinforcement as rl\n",
    "import src.data as d \n",
    "from src.models import logreg, CNN, AgentRL\n",
    "# import active_learning as al\n",
    "# import viz\n",
    "# import reinforcement as rl\n",
    "# import data as d \n",
    "# from models import logreg, CNN, AgentRL\n",
    "\n",
    "import importlib as imp\n",
    "import numpy as np\n",
    "import pandas as pd \n",
    "import matplotlib.pyplot as plt\n",
    "import seaborn as sns\n",
    "from tqdm import tqdm_notebook as tqdm\n",
    "import torchvision.models as tmodels\n",
    "import torchvision.datasets as dset\n",
    "import torchvision.transforms as transforms\n",
    "import torch \n",
    "import torch.nn as nn\n",
    "import torch.nn.functional as F\n",
    "from torch.autograd import Variable\n",
    "import torch.optim as optim\n",
    "from torch.utils.data.dataset import Dataset\n",
    "from torch.distributions import Categorical\n",
    "\n",
    "%matplotlib inline"
   ]
  },
  {
   "cell_type": "code",
   "execution_count": 2,
   "metadata": {},
   "outputs": [],
   "source": [
    "# Get raw datasets - MNIST\n",
    "d = imp.reload(d)\n",
    "train_set = dset.MNIST(root='./data', train=True, transform=transforms.ToTensor(),download=False)\n",
    "test_set = dset.MNIST(root='./data', train=False, transform=transforms.ToTensor())\n",
    "test_loader = torch.utils.data.DataLoader(dataset=test_set, batch_size=len(test_set),shuffle=False)\n",
    "\n",
    "# Get raw dataset - USPS\n",
    "percent_test = 0.3\n",
    "usps_batch = 64\n",
    "usps_set = d.get_usps('usps/usps_all.mat', size=(28,28))\n",
    "usps_x, usps_y, usps_test_x, usps_test_y = al.get_dataset_split(usps_set,int(len(usps_set)*percent_test))\n",
    "usps_test_loader = torch.utils.data.DataLoader(dataset=torch.utils.data.TensorDataset(usps_test_x, usps_test_y), \\\n",
    "                                               batch_size=len(usps_test_y),shuffle=False)\n",
    "usps_train_loader = torch.utils.data.DataLoader(dataset=torch.utils.data.TensorDataset(usps_x, usps_y), \\\n",
    "                                               batch_size=usps_batch,shuffle=True)\n"
   ]
  },
  {
   "cell_type": "code",
   "execution_count": 3,
   "metadata": {},
   "outputs": [],
   "source": [
    "# Get x/y split for the test set \n",
    "train_x, train_y, val_x, val_y = al.get_dataset_split(train_set)\n",
    "test_x,test_y = al.get_xy_split(test_loader)"
   ]
  },
  {
   "cell_type": "code",
   "execution_count": 4,
   "metadata": {},
   "outputs": [],
   "source": [
    "# Get resnet from pytorch (trained on imagenet)\n",
    "# model_in = tmodels.resnet18(pretrained=True)\n",
    "# model_in"
   ]
  },
  {
   "cell_type": "code",
   "execution_count": 6,
   "metadata": {},
   "outputs": [],
   "source": [
    "# Get pretrained usps handwritten classifier - completely trained \n",
    "# Warnings causes by pytorch versioning issues with 0.3.1 on conda GPU vs 0.3.0 on conda CPU\n",
    "# model_usps = torch.load('paul_models/usps_model.pt')\n",
    "# print('USPS training accuracy:',al.accuracy(model_usps, usps_x, usps_y))\n",
    "# print('USPS test accuracy:',al.accuracy(model_usps, usps_test_x, usps_test_y))"
   ]
  },
  {
   "cell_type": "code",
   "execution_count": 7,
   "metadata": {},
   "outputs": [
    {
     "data": {
      "application/vnd.jupyter.widget-view+json": {
       "model_id": "b10fbef43749474bba322c1c0cd5eef1",
       "version_major": 2,
       "version_minor": 0
      },
      "text/plain": [
       "A Jupyter Widget"
      ]
     },
     "metadata": {},
     "output_type": "display_data"
    },
    {
     "name": "stdout",
     "output_type": "stream",
     "text": [
      "\n"
     ]
    },
    {
     "data": {
      "image/png": "[encoded data removed]",
      "text/plain": [
       "<matplotlib.figure.Figure at 0x124c4f3c8>"
      ]
     },
     "metadata": {},
     "output_type": "display_data"
    },
    {
     "name": "stdout",
     "output_type": "stream",
     "text": [
      "Training accuracy: 0.868831168831\n",
      "Test accuracy: 0.874242424242\n"
     ]
    }
   ],
   "source": [
    "# Get partially trained USPS model \n",
    "\n",
    "# Define the CNN model\n",
    "class CNN(nn.Module):\n",
    "    \"\"\" CNN for MNIST \"\"\"\n",
    "    def __init__(self):\n",
    "        super(CNN,self).__init__()\n",
    "        self.conv1 = nn.Conv2d(1, 10, kernel_size=5)\n",
    "        self.conv2 = nn.Conv2d(10, 20, kernel_size=5)\n",
    "        self.conv2_drop = nn.Dropout2d()\n",
    "        self.fc1 = nn.Linear(320, 50)\n",
    "        self.fc2 = nn.Linear(50, 10)\n",
    "\n",
    "    def forward(self, x):\n",
    "        x = x.view(-1,1,28,28)\n",
    "        x = F.relu(F.max_pool2d(self.conv1(x), 2))\n",
    "        x = F.relu(F.max_pool2d(self.conv2_drop(self.conv2(x)), 2))\n",
    "        x = x.view(-1, 320)\n",
    "        x = F.relu(self.fc1(x))\n",
    "        x = self.fc2(x)\n",
    "        return F.log_softmax(x,dim=1)\n",
    "\n",
    "def train_usps(epochs, model, opt, lossf, train_loader):\n",
    "    losses,n_itr = [],0\n",
    "    for e in tqdm(range(epochs)):\n",
    "        for batch_x, batch_y in train_loader:\n",
    "            batch_x = Variable(batch_x.cuda()) if use_cuda else Variable(batch_x)\n",
    "            batch_y = Variable(batch_y.cuda()) if use_cuda else Variable(batch_y)\n",
    "\n",
    "            result = model(batch_x)\n",
    "            loss = lossf(result, batch_y)\n",
    "            opt.zero_grad()\n",
    "            loss.backward()\n",
    "            opt.step()\n",
    "\n",
    "            n_itr+=1\n",
    "            losses.append(loss)\n",
    "\n",
    "    if use_cuda:\n",
    "        losses = [itm.data.cpu().numpy()[0] for itm in losses]\n",
    "    else:, \n",
    "        losses = [itm.data.numpy()[0] for itm in losses]\n",
    "\n",
    "    return list(range(n_itr)), losses\n",
    "\n",
    "# Get raw dataset - USPS\n",
    "percent_test = 0.3\n",
    "usps_batch = 64\n",
    "usps_set = d.get_usps('../notebooks/usps/usps_all.mat', size=(28,28))\n",
    "usps_x, usps_y, usps_test_x, usps_test_y = al.get_dataset_split(usps_set,int(len(usps_set)*percent_test))\n",
    "usps_test_loader = torch.utils.data.DataLoader(dataset=torch.utils.data.TensorDataset(usps_test_x, usps_test_y), \\\n",
    "                                            batch_size=len(usps_test_y),shuffle=False)\n",
    "usps_train_loader = torch.utils.data.DataLoader(dataset=torch.utils.data.TensorDataset(usps_x, usps_y), \\\n",
    "                                            batch_size=usps_batch,shuffle=True)\n",
    "    \n",
    "# train simple learner on USPS and use as the transfer learner \n",
    "usps_epochs = 1\n",
    "use_cuda = torch.cuda.is_available()\n",
    "usps_model = CNN().cuda() if use_cuda else CNN()\n",
    "usps_opt = optim.Adam(usps_model.parameters(), lr=0.01)\n",
    "usps_loss = nn.NLLLoss()\n",
    "\n",
    "n_itr, usps_losses = train_usps(1, usps_model, usps_opt, usps_loss, usps_train_loader)\n",
    "\n",
    "# Analysis of model \n",
    "plt.plot(n_itr, usps_losses, alpha=0.7)\n",
    "plt.title('Loss of CNN training on usps handwritten images.')\n",
    "plt.xlabel('Iterations')\n",
    "plt.ylabel('Loss')\n",
    "plt.show()\n",
    "\n",
    "print('Training accuracy:',al.accuracy(usps_model, usps_x, usps_y, use_cuda))\n",
    "print('Test accuracy:',al.accuracy(usps_model, usps_test_x, usps_test_y, use_cuda))"
   ]
  },
  {
   "cell_type": "markdown",
   "metadata": {},
   "source": [
    "### Now that the transfer learners are loaded we are ready to reinforcement learn:\n",
    "\n",
    "for a given state of the model.. meaning all potential training points, labeled and unlabeled and our predictions on those, is it better to active learn with policy $y$ and continue training our original model or is it better to transfer a different model and retrain the final layer.\n",
    "\n",
    "\n",
    "## Implementation: \n",
    "\n",
    "I need to implement a system that reinforcement learns two options.  \n",
    "\n",
    "1. Train more on the source dataset and then perform $n$ epochs of training on the existing points in the target dataset and predict on the validation in the target \n",
    "2. Use active learning policies to select the next $k$ points in the target set for labeling and then train for $n$ epochs on the target dataset and predict on the validation set in the target.\n",
    "\n",
    "##### Decisions:\n",
    "\n",
    "Decide on if you want the reward to be $\\Delta$ accuracy or accuracy itself."
   ]
  },
  {
   "cell_type": "code",
   "execution_count": 6,
   "metadata": {},
   "outputs": [],
   "source": [
    "# Make the RL agent to interact with the environment \n",
    "class AgentRL(nn.Module):\n",
    "    def __init__(self, inpt_dim, hidden_dim, num_policies):\n",
    "        super(AgentRL, self).__init__()\n",
    "        self.num_policies = num_policies\n",
    "        self.inner_layer = nn.Linear(inpt_dim, hidden_dim)\n",
    "        self.outer_layer = nn.Linear(hidden_dim, num_policies)\n",
    "        self.rewards = []\n",
    "        self.saved_log_probs = []\n",
    "        \n",
    "    def forward(self, x):\n",
    "        x = x.view(1,-1)\n",
    "        x = F.relu(self.inner_layer(x))\n",
    "        x = self.outer_layer(x)\n",
    "        return F.softmax(x, dim=1)"
   ]
  },
  {
   "cell_type": "code",
   "execution_count": 93,
   "metadata": {},
   "outputs": [
    {
     "name": "stderr",
     "output_type": "stream",
     "text": [
      "\n",
      "  0%|          | 0/300 [00:00<?, ?it/s]\u001b[A\n",
      "Exception in thread Thread-29:\n",
      "Traceback (most recent call last):\n",
      "  File \"/Users/paulblankley/anaconda3/lib/python3.6/threading.py\", line 916, in _bootstrap_inner\n",
      "    self.run()\n",
      "  File \"/Users/paulblankley/anaconda3/lib/python3.6/site-packages/tqdm/_tqdm.py\", line 144, in run\n",
      "    for instance in self.tqdm_cls._instances:\n",
      "  File \"/Users/paulblankley/anaconda3/lib/python3.6/_weakrefset.py\", line 60, in __iter__\n",
      "    for itemref in self.data:\n",
      "RuntimeError: Set changed size during iteration\n",
      "\n",
      "100%|██████████| 300/300 [6:22:18<00:00, 76.46s/it]  \n"
     ]
    }
   ],
   "source": [
    "rl = imp.reload(rl)\n",
    "al = imp.reload(al)\n",
    "viz = imp.reload(viz)\n",
    "\n",
    "mod = logreg()\n",
    "opt = optim.Adam(mod.parameters(),lr=0.01)\n",
    "policy_key = {0: 'transfer', 1: 'boundary'}\n",
    "agent = AgentRL(int(len(train_x)*10),128, 2) # 2 for the 1 AL policy and one TL policy\n",
    "optimizer_rl = optim.Adam(agent.parameters(), lr=1e-2)\n",
    "\n",
    "\n",
    "rl_e = rl.Environment(mod, train_x, train_y, val_x , val_y,  nn.NLLLoss(), opt, usps_data=usps_train_loader)\n",
    "rl_e.set_params(al_itrs=50, npoints=20, batch_size=10)\n",
    "pc,rwd,ac = rl_e.run_experiments(agent, optimizer_rl, policy_key, n_experiments=300)\n"
   ]
  },
  {
   "cell_type": "code",
   "execution_count": 104,
   "metadata": {},
   "outputs": [
    {
     "name": "stdout",
     "output_type": "stream",
     "text": [
      "Final accuracy over active learning policy: 0.8838\n"
     ]
    },
    {
     "data": {
      "image/png": "[encoded data removed]",
      "text/plain": [
       "<matplotlib.figure.Figure at 0x12a9ee4e0>"
      ]
     },
     "metadata": {},
     "output_type": "display_data"
    }
   ],
   "source": [
    "viz = imp.reload(viz)\n",
    "# Visualize the instance given by 'ii'\n",
    "ii = 180\n",
    "\n",
    "viz.viz_rl_tl(pc,ac,ii)\n",
    "print('Final accuracy over active learning policy:',ac[ii][-1])\n",
    "# for i in range(len(pc)-1):\n",
    "#     if tuple(pc[i])!=tuple(pc[i+1]):\n",
    "#         print(i,pc[i+1])"
   ]
  },
  {
   "cell_type": "code",
   "execution_count": null,
   "metadata": {},
   "outputs": [],
   "source": []
  }
 ],
 "metadata": {
  "kernelspec": {
   "display_name": "Python 3",
   "language": "python",
   "name": "python3"
  },
  "language_info": {
   "codemirror_mode": {
    "name": "ipython",
    "version": 3
   },
   "file_extension": ".py",
   "mimetype": "text/x-python",
   "name": "python",
   "nbconvert_exporter": "python",
   "pygments_lexer": "ipython3",
   "version": "3.6.2"
  }
 },
 "nbformat": 4,
 "nbformat_minor": 2
}
