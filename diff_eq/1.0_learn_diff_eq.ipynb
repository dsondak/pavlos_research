{
 "cells": [
  {
   "cell_type": "markdown",
   "metadata": {},
   "source": [
    "### Learn a differential equation \n",
    "\n",
    "* $f(x) = \\frac{dx}{dt}$"
   ]
  },
  {
   "cell_type": "code",
   "execution_count": 1,
   "metadata": {},
   "outputs": [],
   "source": [
    "import numpy as np\n",
    "import seaborn as sns\n",
    "import matplotlib.pyplot as plt \n",
    "\n",
    "import torch\n",
    "import torch.nn as nn\n",
    "import torch.optim as optim\n",
    "from torch.autograd import Variable \n",
    "import torch.nn.functional as F\n",
    "\n",
    "%matplotlib inline "
   ]
  },
  {
   "cell_type": "markdown",
   "metadata": {},
   "source": [
    "### Set up the data: \n",
    "\n",
    "We want to set up a system where the network takes in some random vector $\\mathbf{z}$ with the initial $t$ values  and learns the $x$ s.t. that $x$ is the solution to $f(x)=\\frac{dx}{dt}$\n",
    "\n",
    "* $\\frac{dx}{dt} = 2x$\n",
    "* Solution: $x(t) = Ce^{2t}$\n",
    "\n",
    "## Also try $\\lambda=-2$"
   ]
  },
  {
   "cell_type": "code",
   "execution_count": 13,
   "metadata": {},
   "outputs": [],
   "source": [
    "# Helper functions\n",
    "def energy(fx,dx,x):\n",
    "    var_fx = fx.view(1,1,-1)\n",
    "    var_dx = dx.view(1,1,-1)\n",
    "    var_x = x.view(1,1,-1)\n",
    "    weights = Variable(torch.Tensor([1,-1]).view(1,1,-1),requires_grad=False)\n",
    "    var_total = var_dx*var_x\n",
    "    loss_val = torch.sum(torch.pow(F.conv1d(var_total,weights),2))\n",
    "    return torch.sum(torch.pow(var_total,2))\n",
    "\n",
    "def dxdt(x,t):\n",
    "    \"\"\" Use a 1D conv to take the partial derivative dx/dt \"\"\"\n",
    "    var_x = x.view(1,1,-1)\n",
    "    var_t = t.view(1,1,-1)\n",
    "    weights = Variable(torch.Tensor([-1,1]).view(1,1,-1),requires_grad=False)\n",
    "    \n",
    "    deriv = torch.div(F.conv1d(var_x,weights), F.conv1d(var_t,weights))\n",
    "    \n",
    "    last_elm = (var_x[:,:,-2]-var_x[:,:,-1])/(var_t[:,:,-2]-var_t[:,:,-1])\n",
    "    total_deriv = torch.cat([deriv,last_elm.view(1,1,-1)],dim=2)\n",
    "    return total_deriv.view(-1,1)\n",
    "\n",
    "def test_network(x_est, fx_est, fx_true, t_first):\n",
    "    assert(big_lam*torch.pow(x_est[0]-np.exp(2.0*t_first),2).data.numpy()[0]>=0)\n",
    "    assert(big_lam*torch.pow(fx_est[0]-f(np.exp(2.0*t_first)),2).data.numpy()[0]>=0)\n",
    "    assert(big_lam*torch.pow(energy(fx_true,fx_est,x_est),2).data.numpy()[0]>=0)"
   ]
  },
  {
   "cell_type": "markdown",
   "metadata": {},
   "source": [
    "### How should we set up the x and t relationship?\n",
    "\n",
    "It doesn't look like there is much of a signal, but that can be mispecification or just me not doing the right stuff. "
   ]
  },
  {
   "cell_type": "code",
   "execution_count": 20,
   "metadata": {},
   "outputs": [
    {
     "data": {
      "image/png": "[encoded data removed]",
      "text/plain": [
       "<matplotlib.figure.Figure at 0x127b2fc18>"
      ]
     },
     "metadata": {},
     "output_type": "display_data"
    }
   ],
   "source": [
    "class XGen(nn.Module):\n",
    "    \"\"\" Generative model for the X values s.t. they solve dx/dt = f(x) \"\"\"\n",
    "    def __init__(self, indim):\n",
    "        super(XGen,self).__init__()\n",
    "        self.deconv1 = nn.ConvTranspose1d(1,10,kernel_size=1)\n",
    "        self.deconv2 = nn.ConvTranspose1d(10,10,kernel_size=2)\n",
    "        self.deconv3 = nn.ConvTranspose1d(10,20,kernel_size=2)\n",
    "        self.linear = nn.Linear(20*(indim+2),1)\n",
    "        \n",
    "    def forward(self,t):\n",
    "        var = F.leaky_relu(self.deconv1(t),0.05)\n",
    "        var = F.leaky_relu(self.deconv2(var),0.05)\n",
    "        var = F.leaky_relu(self.deconv3(var),0.05)\n",
    "        x = self.linear(var.view(var.size(0),-1))\n",
    "        return x\n",
    "    \n",
    "class Analytic(nn.Module):\n",
    "    \"\"\" Generative model for the X values s.t. they solve dx/dt = f(x) \"\"\"\n",
    "    def __init__(self, indim):\n",
    "        super(Analytic,self).__init__()\n",
    "        self.linear3 = nn.Linear(10,1)\n",
    "        \n",
    "    def forward(self,t):\n",
    "        x = torch.exp(2.0*t)\n",
    "        return x\n",
    "    \n",
    "    \n",
    "def train(net, opt, loss_func, t_in, f, epochs=10, use_cuda=False):\n",
    "    \"\"\" Train the model \"\"\"\n",
    "    losses, itr, big_lam, t_first = [], 0, 1000, t_in.ravel()[0]\n",
    "    \n",
    "    if use_cuda:\n",
    "        t_tensor = Variable(torch.Tensor(t_in).cuda(),requires_grad=True) \n",
    "    else:\n",
    "        t_tensor = Variable(torch.Tensor(t_in),requires_grad=True) \n",
    "        \n",
    "    for e in range(epochs):\n",
    "        opt.zero_grad()\n",
    "\n",
    "        x_est = net(t_tensor)\n",
    "        fx_est = dxdt(x_est,t_tensor)\n",
    "        \n",
    "        # Force initial conditions \n",
    "        x_est_copy = x_est.clone()\n",
    "        x_est_copy[0] = np.exp(2.0*t_first)\n",
    "\n",
    "        # Calculate the real f(x)\n",
    "        fx_true = Variable(f(x_est_copy.data).cuda()) if use_cuda else Variable(f(x_est_copy.data))\n",
    "\n",
    "        # Calculate the loss\n",
    "        loss = loss_func(fx_est, fx_true) + big_lam*torch.pow(x_est[0]-np.exp(2.0*t_first),2) \\\n",
    "                                          + big_lam*torch.pow(fx_est[0]-f(np.exp(2.0*t_first)),2) \n",
    "                                          # + big_lam*torch.pow(energy(fx_true,fx_est,x_est),2)\n",
    "        # Backprop and update\n",
    "        loss.backward()\n",
    "        opt.step()\n",
    "        itr+=1\n",
    "        losses.append(loss)\n",
    "            \n",
    "    losses = [i.data.cpu().numpy()[0] for i in losses] if use_cuda else [i.data.numpy()[0] for i in losses]\n",
    "    return range(itr),losses\n",
    "            \n",
    "\n",
    "use_cuda = torch.cuda.is_available()\n",
    "\n",
    "np.random.seed(42)\n",
    "f = lambda x: 2.0*x\n",
    "\n",
    "# Params\n",
    "n_examples = 100\n",
    "\n",
    "# Set up the data \n",
    "t = np.linspace(-1,1,n_examples).reshape(-1,1,1)\n",
    "\n",
    "# Set up model      \n",
    "# net = Analytic(1).cuda() if use_cuda else Analytic(1)\n",
    "net = XGen(1).cuda() if use_cuda else XGen(1)\n",
    "opt = optim.SGD(net.parameters(),lr=1e-5,weight_decay=0.01)\n",
    "loss_func = nn.MSELoss()\n",
    "\n",
    "# Train the model \n",
    "itr, losses = train(net, opt, loss_func, t, f, epochs=400000, use_cuda=use_cuda)\n",
    "\n",
    "# Look at plot of loss \n",
    "plt.figure(figsize=(10,8))\n",
    "plt.plot(itr,losses,alpha=0.7)\n",
    "plt.title('Loss over time')\n",
    "plt.ylabel('Loss')\n",
    "plt.xlabel('Iterations')\n",
    "sns.despine()"
   ]
  },
  {
   "cell_type": "code",
   "execution_count": 21,
   "metadata": {},
   "outputs": [
    {
     "data": {
      "image/png": "[encoded data removed]",
      "text/plain": [
       "<matplotlib.figure.Figure at 0x127b2f710>"
      ]
     },
     "metadata": {},
     "output_type": "display_data"
    }
   ],
   "source": [
    "# Calculate values \n",
    "t_ex = t\n",
    "learned_x = net(Variable(torch.Tensor(t_ex)))\n",
    "learned_dxdt = dxdt(learned_x,Variable(torch.Tensor(t_ex)))\n",
    "analytic_x = np.exp(2.0*t_ex)\n",
    "analytic_fx = 2.0*learned_x.data.numpy()\n",
    "\n",
    "# Plotting \n",
    "fig, (ax1,ax2) = plt.subplots(1,2,figsize=(14,6))\n",
    "\n",
    "# Plot X \n",
    "ax1.plot(t_ex.ravel(), learned_x.data.numpy().ravel(), alpha=0.7, label=r'Learned $x$')\n",
    "ax1.plot(t_ex.ravel(), analytic_x.ravel(), alpha=0.7, label=r'Analytic $x$')\n",
    "ax1.set_title(r'Learned and Analytic $x$ value comparison')\n",
    "ax1.set_xlabel(r'$t$')\n",
    "ax1.set_ylabel(r'$x$')\n",
    "ax1.legend()\n",
    "\n",
    "# Plot dx/dt and f(x) where x is the learned value\n",
    "ax2.plot(t_ex.ravel(), learned_dxdt.data.numpy().ravel(), alpha=0.7,label=r'Learned $\\frac{dx}{dt}$')\n",
    "ax2.plot(t_ex.ravel(), analytic_fx.ravel(), alpha=0.7,label=r'True $f(x)$')\n",
    "ax2.set_title(r'Learned $\\frac{dx}{dt}$ and $f(x)$ value comparison')\n",
    "ax2.set_xlabel(r'$t$')\n",
    "ax2.set_ylabel(r'$\\frac{dx}{dt}$')\n",
    "ax2.legend()\n",
    "\n",
    "sns.despine()"
   ]
  },
  {
   "cell_type": "code",
   "execution_count": 12,
   "metadata": {},
   "outputs": [
    {
     "name": "stdout",
     "output_type": "stream",
     "text": [
      "Loss: 0.0598802\n"
     ]
    }
   ],
   "source": [
    "# Calculate the loss\n",
    "fx_true = Variable(f(learned_x.data))\n",
    "print('Loss:',loss_func(learned_dxdt,fx_true).data.numpy()[0])"
   ]
  },
  {
   "cell_type": "code",
   "execution_count": 19,
   "metadata": {},
   "outputs": [
    {
     "name": "stdout",
     "output_type": "stream",
     "text": [
      "Learned x: [ 1.21987438  1.48963547  1.81683803]\n",
      "Analytic x: [ 1.4918247   1.8221188   2.22554093]\n"
     ]
    }
   ],
   "source": [
    "t_new = np.array([.2,.3,.4]).reshape(-1,1,1)\n",
    "print('Learned x:',net(Variable(torch.Tensor(t_new))).data.numpy().ravel())\n",
    "print('Analytic x:', np.exp(2.0*t_new).ravel())"
   ]
  },
  {
   "cell_type": "code",
   "execution_count": null,
   "metadata": {},
   "outputs": [],
   "source": [
    "# Print the values \n",
    "print(f't values: {t_ex.ravel()}\\n')\n",
    "\n",
    "print(f'Learned x: {learned_x.data.numpy().ravel()}')\n",
    "print(f'Analytic x: {analytic_x.ravel()}','\\n')\n",
    "\n",
    "print(f'Learned f(x): {learned_dxdt.data.numpy().ravel()}')\n",
    "print(f'Analytic f(x): {analytic_fx.ravel()}')"
   ]
  },
  {
   "cell_type": "code",
   "execution_count": null,
   "metadata": {},
   "outputs": [],
   "source": []
  }
 ],
 "metadata": {
  "kernelspec": {
   "display_name": "Python 3",
   "language": "python",
   "name": "python3"
  },
  "language_info": {
   "codemirror_mode": {
    "name": "ipython",
    "version": 3
   },
   "file_extension": ".py",
   "mimetype": "text/x-python",
   "name": "python",
   "nbconvert_exporter": "python",
   "pygments_lexer": "ipython3",
   "version": "3.6.2"
  }
 },
 "nbformat": 4,
 "nbformat_minor": 2
}
