{
 "cells": [
  {
   "cell_type": "markdown",
   "metadata": {},
   "source": [
    "### Notebook for the following paper:\n",
    "\n",
    "http://iopscience.iop.org/article/10.3847/1538-3881/aa9ab8/meta\n",
    "\n",
    "* Pavlos, Karim, and Nicolás Castro\n",
    "\n",
    "###### General Overview:\n",
    "The paper is on treating features as distributions.  It uses Gaussian Processes (GP) to treat the time series like a distribution, making use of both the measurement error given in the data, $\\epsilon$, and the error associated with gaps in the time series.  The paper also covers sampling from the distributions and training a random forest based on the samples (randomness in the data from the sampling, not the feature selection)."
   ]
  },
  {
   "cell_type": "code",
   "execution_count": null,
   "metadata": {},
   "outputs": [],
   "source": []
  }
 ],
 "metadata": {
  "kernelspec": {
   "display_name": "Python 3",
   "language": "python",
   "name": "python3"
  },
  "language_info": {
   "codemirror_mode": {
    "name": "ipython",
    "version": 3
   },
   "file_extension": ".py",
   "mimetype": "text/x-python",
   "name": "python",
   "nbconvert_exporter": "python",
   "pygments_lexer": "ipython3",
   "version": "3.6.2"
  }
 },
 "nbformat": 4,
 "nbformat_minor": 2
}
